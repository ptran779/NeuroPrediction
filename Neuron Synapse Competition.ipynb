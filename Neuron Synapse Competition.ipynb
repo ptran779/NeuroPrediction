{
 "cells": [
  {
   "cell_type": "markdown",
   "id": "0a38a23b",
   "metadata": {},
   "source": [
    "Neuron Synapse Competition"
   ]
  },
  {
   "cell_type": "markdown",
   "id": "66105ff6",
   "metadata": {},
   "source": [
    "## Load in and Wrangle Training Data"
   ]
  },
  {
   "cell_type": "code",
   "execution_count": 207,
   "id": "e2237b6d",
   "metadata": {},
   "outputs": [],
   "source": [
    "import pandas as pd\n",
    "import numpy as np\n",
    "import matplotlib.pyplot as plt\n",
    "import seaborn as sns\n",
    "\n",
    "#load in training data on each potential synapse\n",
    "data = pd.read_csv(\"./train_data.csv\")\n",
    "\n",
    "#load in additional features for each neuron\n",
    "feature_weights = pd.read_csv(\"./feature_weights.csv\")\n",
    "morph_embeddings = pd.read_csv(\"./morph_embeddings.csv\")"
   ]
  },
  {
   "cell_type": "markdown",
   "id": "c4070b48",
   "metadata": {},
   "source": [
    "#### Basic info on these dataframes"
   ]
  },
  {
   "cell_type": "code",
   "execution_count": 208,
   "id": "21377c2f",
   "metadata": {},
   "outputs": [
    {
     "name": "stdout",
     "output_type": "stream",
     "text": [
      "Main Dataframe Size: (185832, 30)\n",
      "\n",
      "Main Dataframe:\n",
      "<class 'pandas.core.frame.DataFrame'>\n",
      "RangeIndex: 185832 entries, 0 to 185831\n",
      "Data columns (total 30 columns):\n",
      " #   Column                          Non-Null Count   Dtype  \n",
      "---  ------                          --------------   -----  \n",
      " 0   ID                              185832 non-null  int64  \n",
      " 1   axonal_coor_x                   185832 non-null  int64  \n",
      " 2   axonal_coor_y                   185832 non-null  int64  \n",
      " 3   axonal_coor_z                   185832 non-null  int64  \n",
      " 4   dendritic_coor_x                185832 non-null  int64  \n",
      " 5   dendritic_coor_y                185832 non-null  int64  \n",
      " 6   dendritic_coor_z                185832 non-null  int64  \n",
      " 7   adp_dist                        185832 non-null  float64\n",
      " 8   post_skeletal_distance_to_soma  185832 non-null  float64\n",
      " 9   pre_skeletal_distance_to_soma   185832 non-null  float64\n",
      " 10  pre_oracle                      185832 non-null  float64\n",
      " 11  pre_test_score                  185832 non-null  float64\n",
      " 12  pre_rf_x                        185832 non-null  float64\n",
      " 13  pre_rf_y                        185832 non-null  float64\n",
      " 14  post_oracle                     185832 non-null  float64\n",
      " 15  post_test_score                 185832 non-null  float64\n",
      " 16  post_rf_x                       185832 non-null  float64\n",
      " 17  post_rf_y                       185832 non-null  float64\n",
      " 18  compartment                     185832 non-null  object \n",
      " 19  pre_brain_area                  185832 non-null  object \n",
      " 20  post_brain_area                 185832 non-null  object \n",
      " 21  pre_nucleus_x                   185832 non-null  int64  \n",
      " 22  pre_nucleus_y                   185832 non-null  int64  \n",
      " 23  pre_nucleus_z                   185832 non-null  int64  \n",
      " 24  post_nucleus_x                  185832 non-null  int64  \n",
      " 25  post_nucleus_y                  185832 non-null  int64  \n",
      " 26  post_nucleus_z                  185832 non-null  int64  \n",
      " 27  pre_nucleus_id                  185832 non-null  int64  \n",
      " 28  post_nucleus_id                 185832 non-null  int64  \n",
      " 29  connected                       185832 non-null  bool   \n",
      "dtypes: bool(1), float64(11), int64(15), object(3)\n",
      "memory usage: 41.3+ MB\n",
      "\n",
      "Feature Weights Size: (2692, 513)\n",
      "\n",
      "Feature Weights:\n",
      "<class 'pandas.core.frame.DataFrame'>\n",
      "RangeIndex: 2692 entries, 0 to 2691\n",
      "Columns: 513 entries, nucleus_id to feature_weight_511\n",
      "dtypes: float64(512), int64(1)\n",
      "memory usage: 10.5 MB\n",
      "\n",
      "Morphological Embeddings Size: (2667, 33)\n",
      "\n",
      "Morphological Embeddings:\n",
      "<class 'pandas.core.frame.DataFrame'>\n",
      "RangeIndex: 2667 entries, 0 to 2666\n",
      "Columns: 33 entries, nucleus_id to morph_emb_31\n",
      "dtypes: float64(32), int64(1)\n",
      "memory usage: 687.7 KB\n"
     ]
    }
   ],
   "source": [
    "print(\"Main Dataframe Size:\",data.shape)\n",
    "print(\"\\nMain Dataframe:\")\n",
    "data.info()\n",
    "\n",
    "print(\"\\nFeature Weights Size:\",feature_weights.shape)\n",
    "print(\"\\nFeature Weights:\")\n",
    "feature_weights.info(verbose=False)\n",
    "\n",
    "print(\"\\nMorphological Embeddings Size:\",morph_embeddings.shape)\n",
    "print(\"\\nMorphological Embeddings:\")\n",
    "morph_embeddings.info(verbose=False)"
   ]
  },
  {
   "cell_type": "markdown",
   "id": "9157b5f4",
   "metadata": {},
   "source": [
    "See the documentation for additional information on these features.  The main dataframe contains features for each potential synapse (each row).  The outcome to predict is 'connected'.  Note that many of the raw features in this dataframe will not be directly useful for prediction (e.g. x,y,z coordiantes, pre- and post-synapse neuron ID and etc.).  You will need to creatively engineer new features that will be more useful for prediction.\n",
    "\n",
    "The additional information on feature weights and morphological embeddings are given for each separate neuron (the neuron ID is matched with that in the main dataframe).  These will need to be merged with the other data to create training and test sets. "
   ]
  },
  {
   "cell_type": "markdown",
   "id": "49737cbf",
   "metadata": {},
   "source": [
    "#### Merge Data"
   ]
  },
  {
   "cell_type": "markdown",
   "id": "2b83752d",
   "metadata": {},
   "source": [
    "Before merging, we concatenate the feature weights and morphological embeddings into np.array's to decrease memory usage."
   ]
  },
  {
   "cell_type": "code",
   "execution_count": 209,
   "id": "2a78bac9",
   "metadata": {},
   "outputs": [],
   "source": [
    "# join all feature_weight_i columns into a single np.array column\n",
    "feature_weights[\"feature_weights\"] = (\n",
    "    feature_weights.filter(regex=\"feature_weight_\")\n",
    "    .sort_index(axis=1)\n",
    "    .apply(lambda x: np.array(x), axis=1)\n",
    ")\n",
    "# delete the feature_weight_i columns\n",
    "feature_weights.drop(\n",
    "    feature_weights.filter(regex=\"feature_weight_\").columns, axis=1, inplace=True\n",
    ")\n",
    "\n",
    "# join all morph_embed_i columns into a single np.array column\n",
    "morph_embeddings[\"morph_embeddings\"] = (\n",
    "    morph_embeddings.filter(regex=\"morph_emb_\")\n",
    "    .sort_index(axis=1)\n",
    "    .apply(lambda x: np.array(x), axis=1)\n",
    ")\n",
    "# delete the morph_embed_i columns\n",
    "morph_embeddings.drop(\n",
    "    morph_embeddings.filter(regex=\"morph_emb_\").columns, axis=1, inplace=True\n",
    ")"
   ]
  },
  {
   "cell_type": "code",
   "execution_count": 210,
   "id": "3f87211b",
   "metadata": {},
   "outputs": [],
   "source": [
    "data = (\n",
    "    data.merge(\n",
    "        feature_weights.rename(columns=lambda x: \"pre_\" + x), \n",
    "        how=\"left\", \n",
    "        validate=\"m:1\",\n",
    "        copy=False,\n",
    "    )\n",
    "    .merge(\n",
    "        feature_weights.rename(columns=lambda x: \"post_\" + x),\n",
    "        how=\"left\",\n",
    "        validate=\"m:1\",\n",
    "        copy=False,\n",
    "    )\n",
    "    .merge(\n",
    "        morph_embeddings.rename(columns=lambda x: \"pre_\" + x),\n",
    "        how=\"left\",\n",
    "        validate=\"m:1\",\n",
    "        copy=False,\n",
    "    )\n",
    "    .merge(\n",
    "        morph_embeddings.rename(columns=lambda x: \"post_\" + x),\n",
    "        how=\"left\",\n",
    "        validate=\"m:1\",\n",
    "        copy=False,\n",
    "    )\n",
    ")"
   ]
  },
  {
   "cell_type": "code",
   "execution_count": 211,
   "id": "210ce030",
   "metadata": {},
   "outputs": [
    {
     "name": "stdout",
     "output_type": "stream",
     "text": [
      "Data Size: (185832, 34)\n",
      "\n",
      "Data:\n",
      "<class 'pandas.core.frame.DataFrame'>\n",
      "Int64Index: 185832 entries, 0 to 185831\n",
      "Data columns (total 34 columns):\n",
      " #   Column                          Non-Null Count   Dtype  \n",
      "---  ------                          --------------   -----  \n",
      " 0   ID                              185832 non-null  int64  \n",
      " 1   axonal_coor_x                   185832 non-null  int64  \n",
      " 2   axonal_coor_y                   185832 non-null  int64  \n",
      " 3   axonal_coor_z                   185832 non-null  int64  \n",
      " 4   dendritic_coor_x                185832 non-null  int64  \n",
      " 5   dendritic_coor_y                185832 non-null  int64  \n",
      " 6   dendritic_coor_z                185832 non-null  int64  \n",
      " 7   adp_dist                        185832 non-null  float64\n",
      " 8   post_skeletal_distance_to_soma  185832 non-null  float64\n",
      " 9   pre_skeletal_distance_to_soma   185832 non-null  float64\n",
      " 10  pre_oracle                      185832 non-null  float64\n",
      " 11  pre_test_score                  185832 non-null  float64\n",
      " 12  pre_rf_x                        185832 non-null  float64\n",
      " 13  pre_rf_y                        185832 non-null  float64\n",
      " 14  post_oracle                     185832 non-null  float64\n",
      " 15  post_test_score                 185832 non-null  float64\n",
      " 16  post_rf_x                       185832 non-null  float64\n",
      " 17  post_rf_y                       185832 non-null  float64\n",
      " 18  compartment                     185832 non-null  object \n",
      " 19  pre_brain_area                  185832 non-null  object \n",
      " 20  post_brain_area                 185832 non-null  object \n",
      " 21  pre_nucleus_x                   185832 non-null  int64  \n",
      " 22  pre_nucleus_y                   185832 non-null  int64  \n",
      " 23  pre_nucleus_z                   185832 non-null  int64  \n",
      " 24  post_nucleus_x                  185832 non-null  int64  \n",
      " 25  post_nucleus_y                  185832 non-null  int64  \n",
      " 26  post_nucleus_z                  185832 non-null  int64  \n",
      " 27  pre_nucleus_id                  185832 non-null  int64  \n",
      " 28  post_nucleus_id                 185832 non-null  int64  \n",
      " 29  connected                       185832 non-null  bool   \n",
      " 30  pre_feature_weights             185832 non-null  object \n",
      " 31  post_feature_weights            185832 non-null  object \n",
      " 32  pre_morph_embeddings            138123 non-null  object \n",
      " 33  post_morph_embeddings           185832 non-null  object \n",
      "dtypes: bool(1), float64(11), int64(15), object(7)\n",
      "memory usage: 48.4+ MB\n"
     ]
    }
   ],
   "source": [
    "print(\"Data Size:\",data.shape)\n",
    "print(\"\\nData:\")\n",
    "data.info()"
   ]
  },
  {
   "cell_type": "markdown",
   "id": "798015c5",
   "metadata": {},
   "source": [
    "## Basic Exploratory Analysis"
   ]
  },
  {
   "cell_type": "code",
   "execution_count": 212,
   "id": "bcdb53dc",
   "metadata": {},
   "outputs": [],
   "source": [
    "import numpy as np\n",
    "import pandas as pd\n",
    "import seaborn as sns\n",
    "import matplotlib.pyplot as plt\n",
    "from tqdm import tqdm\n",
    "from sklearn.metrics.pairwise import cosine_similarity"
   ]
  },
  {
   "cell_type": "markdown",
   "id": "2dc227ee",
   "metadata": {},
   "source": [
    "### Unbalanced Data"
   ]
  },
  {
   "cell_type": "markdown",
   "id": "660421ac",
   "metadata": {},
   "source": [
    "The outcomes, the adps that form a connection or synapse ('connected'==True) and the adps that do not synapse ('connected'==False), are unbalanced:"
   ]
  },
  {
   "cell_type": "code",
   "execution_count": 213,
   "id": "13ff436c",
   "metadata": {},
   "outputs": [
    {
     "name": "stdout",
     "output_type": "stream",
     "text": [
      "Number Connected (Synapses): 1366\n",
      "\n",
      "Number Not Connected: 184466\n"
     ]
    }
   ],
   "source": [
    "print(\"Number Connected (Synapses):\",data['connected'].sum())\n",
    "\n",
    "print(\"\\nNumber Not Connected:\",(~data['connected']).sum())"
   ]
  },
  {
   "cell_type": "markdown",
   "id": "1abf1022",
   "metadata": {},
   "source": [
    "The number of presynaptic neurons and postsynaptic neurons are also unbalanced:"
   ]
  },
  {
   "cell_type": "code",
   "execution_count": 214,
   "id": "44a8917f",
   "metadata": {},
   "outputs": [
    {
     "name": "stdout",
     "output_type": "stream",
     "text": [
      "All the adps are from 77 pre- neurons and 2663 post- neurons.\n"
     ]
    }
   ],
   "source": [
    "print(f\"All the adps are from {data['pre_nucleus_id'].nunique()} pre- neurons and {data['post_nucleus_id'].nunique()} post- neurons.\")"
   ]
  },
  {
   "cell_type": "markdown",
   "id": "e8c02cc6",
   "metadata": {},
   "source": [
    "### Exploration: Synaptic Proximity Distance "
   ]
  },
  {
   "cell_type": "code",
   "execution_count": 215,
   "id": "a6163e8c",
   "metadata": {},
   "outputs": [
    {
     "data": {
      "text/plain": [
       "<seaborn.axisgrid.FacetGrid at 0x1e416f3f610>"
      ]
     },
     "execution_count": 215,
     "metadata": {},
     "output_type": "execute_result"
    },
    {
     "data": {
      "image/png": "[encoded data removed]",
      "text/plain": [
       "<Figure size 500x500 with 1 Axes>"
      ]
     },
     "metadata": {},
     "output_type": "display_data"
    }
   ],
   "source": [
    "sns.catplot(data=data, x='connected', y='adp_dist', kind='boxen')\n"
   ]
  },
  {
   "cell_type": "code",
   "execution_count": null,
   "id": "71ce5fa4",
   "metadata": {},
   "outputs": [],
   "source": []
  },
  {
   "cell_type": "code",
   "execution_count": null,
   "id": "3ef435ab",
   "metadata": {},
   "outputs": [],
   "source": []
  },
  {
   "cell_type": "code",
   "execution_count": 216,
   "id": "70f886f6",
   "metadata": {},
   "outputs": [
    {
     "name": "stdout",
     "output_type": "stream",
     "text": [
      "<class 'pandas.core.frame.DataFrame'>\n",
      "Int64Index: 185832 entries, 0 to 185831\n",
      "Data columns (total 34 columns):\n",
      " #   Column                          Non-Null Count   Dtype  \n",
      "---  ------                          --------------   -----  \n",
      " 0   ID                              185832 non-null  int64  \n",
      " 1   axonal_coor_x                   185832 non-null  int64  \n",
      " 2   axonal_coor_y                   185832 non-null  int64  \n",
      " 3   axonal_coor_z                   185832 non-null  int64  \n",
      " 4   dendritic_coor_x                185832 non-null  int64  \n",
      " 5   dendritic_coor_y                185832 non-null  int64  \n",
      " 6   dendritic_coor_z                185832 non-null  int64  \n",
      " 7   adp_dist                        185832 non-null  float64\n",
      " 8   post_skeletal_distance_to_soma  185832 non-null  float64\n",
      " 9   pre_skeletal_distance_to_soma   185832 non-null  float64\n",
      " 10  pre_oracle                      185832 non-null  float64\n",
      " 11  pre_test_score                  185832 non-null  float64\n",
      " 12  pre_rf_x                        185832 non-null  float64\n",
      " 13  pre_rf_y                        185832 non-null  float64\n",
      " 14  post_oracle                     185832 non-null  float64\n",
      " 15  post_test_score                 185832 non-null  float64\n",
      " 16  post_rf_x                       185832 non-null  float64\n",
      " 17  post_rf_y                       185832 non-null  float64\n",
      " 18  compartment                     185832 non-null  object \n",
      " 19  pre_brain_area                  185832 non-null  object \n",
      " 20  post_brain_area                 185832 non-null  object \n",
      " 21  pre_nucleus_x                   185832 non-null  int64  \n",
      " 22  pre_nucleus_y                   185832 non-null  int64  \n",
      " 23  pre_nucleus_z                   185832 non-null  int64  \n",
      " 24  post_nucleus_x                  185832 non-null  int64  \n",
      " 25  post_nucleus_y                  185832 non-null  int64  \n",
      " 26  post_nucleus_z                  185832 non-null  int64  \n",
      " 27  pre_nucleus_id                  185832 non-null  int64  \n",
      " 28  post_nucleus_id                 185832 non-null  int64  \n",
      " 29  connected                       185832 non-null  bool   \n",
      " 30  pre_feature_weights             185832 non-null  object \n",
      " 31  post_feature_weights            185832 non-null  object \n",
      " 32  pre_morph_embeddings            138123 non-null  object \n",
      " 33  post_morph_embeddings           185832 non-null  object \n",
      "dtypes: bool(1), float64(11), int64(15), object(7)\n",
      "memory usage: 48.4+ MB\n"
     ]
    }
   ],
   "source": [
    "data.info()"
   ]
  },
  {
   "cell_type": "markdown",
   "id": "5dac1cdf",
   "metadata": {},
   "source": [
    "### Imputing the pre-morph embeddings row"
   ]
  },
  {
   "cell_type": "code",
   "execution_count": 217,
   "id": "8d4d4953",
   "metadata": {
    "scrolled": true
   },
   "outputs": [
    {
     "name": "stdout",
     "output_type": "stream",
     "text": [
      "<class 'pandas.core.frame.DataFrame'>\n",
      "Int64Index: 185832 entries, 0 to 185831\n",
      "Data columns (total 34 columns):\n",
      " #   Column                          Non-Null Count   Dtype  \n",
      "---  ------                          --------------   -----  \n",
      " 0   ID                              185832 non-null  int64  \n",
      " 1   axonal_coor_x                   185832 non-null  int64  \n",
      " 2   axonal_coor_y                   185832 non-null  int64  \n",
      " 3   axonal_coor_z                   185832 non-null  int64  \n",
      " 4   dendritic_coor_x                185832 non-null  int64  \n",
      " 5   dendritic_coor_y                185832 non-null  int64  \n",
      " 6   dendritic_coor_z                185832 non-null  int64  \n",
      " 7   adp_dist                        185832 non-null  float64\n",
      " 8   post_skeletal_distance_to_soma  185832 non-null  float64\n",
      " 9   pre_skeletal_distance_to_soma   185832 non-null  float64\n",
      " 10  pre_oracle                      185832 non-null  float64\n",
      " 11  pre_test_score                  185832 non-null  float64\n",
      " 12  pre_rf_x                        185832 non-null  float64\n",
      " 13  pre_rf_y                        185832 non-null  float64\n",
      " 14  post_oracle                     185832 non-null  float64\n",
      " 15  post_test_score                 185832 non-null  float64\n",
      " 16  post_rf_x                       185832 non-null  float64\n",
      " 17  post_rf_y                       185832 non-null  float64\n",
      " 18  compartment                     185832 non-null  object \n",
      " 19  pre_brain_area                  185832 non-null  object \n",
      " 20  post_brain_area                 185832 non-null  object \n",
      " 21  pre_nucleus_x                   185832 non-null  int64  \n",
      " 22  pre_nucleus_y                   185832 non-null  int64  \n",
      " 23  pre_nucleus_z                   185832 non-null  int64  \n",
      " 24  post_nucleus_x                  185832 non-null  int64  \n",
      " 25  post_nucleus_y                  185832 non-null  int64  \n",
      " 26  post_nucleus_z                  185832 non-null  int64  \n",
      " 27  pre_nucleus_id                  185832 non-null  int64  \n",
      " 28  post_nucleus_id                 185832 non-null  int64  \n",
      " 29  connected                       185832 non-null  bool   \n",
      " 30  pre_feature_weights             185832 non-null  object \n",
      " 31  post_feature_weights            185832 non-null  object \n",
      " 32  pre_morph_embeddings            185832 non-null  object \n",
      " 33  post_morph_embeddings           185832 non-null  object \n",
      "dtypes: bool(1), float64(11), int64(15), object(7)\n",
      "memory usage: 48.4+ MB\n"
     ]
    }
   ],
   "source": [
    "from sklearn.impute import SimpleImputer\n",
    "import ast  # Module to safely evaluate literal strings as Python expressions\n",
    "\n",
    "# Assuming 'data' is your DataFrame\n",
    "column_to_impute = 'pre_morph_embeddings'\n",
    "\n",
    "data[column_to_impute].fillna(0, inplace=True)\n",
    "\n",
    "data.info()\n"
   ]
  },
  {
   "cell_type": "code",
   "execution_count": 218,
   "id": "24ebe215",
   "metadata": {},
   "outputs": [
    {
     "name": "stdout",
     "output_type": "stream",
     "text": [
      "<class 'pandas.core.frame.DataFrame'>\n",
      "Int64Index: 185832 entries, 0 to 185831\n",
      "Data columns (total 34 columns):\n",
      " #   Column                          Non-Null Count   Dtype  \n",
      "---  ------                          --------------   -----  \n",
      " 0   ID                              185832 non-null  int64  \n",
      " 1   axonal_coor_x                   185832 non-null  int64  \n",
      " 2   axonal_coor_y                   185832 non-null  int64  \n",
      " 3   axonal_coor_z                   185832 non-null  int64  \n",
      " 4   dendritic_coor_x                185832 non-null  int64  \n",
      " 5   dendritic_coor_y                185832 non-null  int64  \n",
      " 6   dendritic_coor_z                185832 non-null  int64  \n",
      " 7   adp_dist                        185832 non-null  float64\n",
      " 8   post_skeletal_distance_to_soma  185832 non-null  float64\n",
      " 9   pre_skeletal_distance_to_soma   185832 non-null  float64\n",
      " 10  pre_oracle                      185832 non-null  float64\n",
      " 11  pre_test_score                  185832 non-null  float64\n",
      " 12  pre_rf_x                        185832 non-null  float64\n",
      " 13  pre_rf_y                        185832 non-null  float64\n",
      " 14  post_oracle                     185832 non-null  float64\n",
      " 15  post_test_score                 185832 non-null  float64\n",
      " 16  post_rf_x                       185832 non-null  float64\n",
      " 17  post_rf_y                       185832 non-null  float64\n",
      " 18  compartment                     185832 non-null  int32  \n",
      " 19  pre_brain_area                  185832 non-null  int32  \n",
      " 20  post_brain_area                 185832 non-null  int32  \n",
      " 21  pre_nucleus_x                   185832 non-null  int64  \n",
      " 22  pre_nucleus_y                   185832 non-null  int64  \n",
      " 23  pre_nucleus_z                   185832 non-null  int64  \n",
      " 24  post_nucleus_x                  185832 non-null  int64  \n",
      " 25  post_nucleus_y                  185832 non-null  int64  \n",
      " 26  post_nucleus_z                  185832 non-null  int64  \n",
      " 27  pre_nucleus_id                  185832 non-null  int64  \n",
      " 28  post_nucleus_id                 185832 non-null  int64  \n",
      " 29  connected                       185832 non-null  bool   \n",
      " 30  pre_feature_weights             185832 non-null  object \n",
      " 31  post_feature_weights            185832 non-null  object \n",
      " 32  pre_morph_embeddings            185832 non-null  object \n",
      " 33  post_morph_embeddings           185832 non-null  object \n",
      "dtypes: bool(1), float64(11), int32(3), int64(15), object(4)\n",
      "memory usage: 46.3+ MB\n"
     ]
    }
   ],
   "source": [
    "from sklearn.preprocessing import LabelEncoder\n",
    "\n",
    "# Create a LabelEncoder instance\n",
    "label_encoder = LabelEncoder()\n",
    "\n",
    "# List of categorical columns\n",
    "categorical_columns = ['compartment', 'pre_brain_area','post_brain_area']\n",
    "\n",
    "# Apply label encoding to each categorical column\n",
    "for column in categorical_columns:\n",
    "    data[column] = label_encoder.fit_transform(data[column])\n",
    "\n",
    "# Display the updated DataFrame\n",
    "data.info()"
   ]
  },
  {
   "cell_type": "markdown",
   "id": "009ff1ca",
   "metadata": {},
   "source": [
    "### Calculating the Eulidean distances between the axonal and dendritic coordinates"
   ]
  },
  {
   "cell_type": "code",
   "execution_count": 219,
   "id": "65b720d5",
   "metadata": {},
   "outputs": [],
   "source": [
    "# Calculating the Eulidean distances between the axonal and dendritic coordinates\n",
    "\n",
    "\n",
    "\n",
    "# Calculate Euclidean distances and create a new column 'euclidean_distance'\n",
    "data['euclidean_distance'] = np.sqrt(\n",
    "    (data['axonal_coor_x'] - data['dendritic_coor_x'])**2 +\n",
    "    (data['axonal_coor_y'] - data['dendritic_coor_y'])**2 +\n",
    "    (data['axonal_coor_z'] - data['dendritic_coor_z'])**2\n",
    ")\n",
    "\n",
    "# The 'euclidean_distance' column now contains the Euclidean distances\n",
    "\n",
    "# Calculate Euclidean distances between axonal and dendritic coordinates for both pre and post neurons\n",
    "data['axonal_distance_pre'] = np.sqrt((data['axonal_coor_x'] - data['dendritic_coor_x'])**2 + (data['axonal_coor_y'] - data['dendritic_coor_y'])**2)\n",
    "data['axonal_distance_post'] = np.sqrt((data['axonal_coor_x'] - data['dendritic_coor_x'])**2 + (data['axonal_coor_y'] - data['dendritic_coor_y'])**2)\n",
    "\n",
    "data['dendritic_distance_pre'] = np.sqrt((data['dendritic_coor_x'] - data['axonal_coor_x'])**2 + (data['dendritic_coor_y'] - data['axonal_coor_y'])**2)\n",
    "data['dendritic_distance_post'] = np.sqrt((data['dendritic_coor_x'] - data['axonal_coor_x'])**2 + (data['dendritic_coor_y'] - data['axonal_coor_y'])**2)\n",
    "\n",
    "# Combine these distances with Euclidean distances between readout locations\n",
    "data['euclidean_distance_pre'] = np.sqrt((data['pre_rf_x'] - data['post_rf_x'])**2 + (data['pre_rf_y'] - data['post_rf_y'])**2)\n",
    "data['euclidean_distance_post'] = np.sqrt((data['pre_rf_x'] - data['post_rf_x'])**2 + (data['pre_rf_y'] - data['post_rf_y'])**2)\n",
    "\n",
    "# Dataset contains both structural (axonal and dendritic distances) and spatial (Euclidean distances) features.\n",
    "\n",
    "\n",
    "# Calculate the relative positions of post-synaptic neurons with respect to pre-synaptic neurons\n",
    "data['relative_position_x'] = data['post_rf_x'] - data['pre_rf_x']\n",
    "data['relative_position_y'] = data['post_rf_y'] - data['pre_rf_y']\n",
    "\n",
    "# dataset contains \"relative_position_x\" and \"relative_position_y\" features\n",
    "\n",
    "# Create binary directional features\n",
    "data['is_left'] = (data['relative_position_x'] < 0).astype(int)\n",
    "data['is_right'] = (data['relative_position_x'] > 0).astype(int)\n",
    "data['is_above'] = (data['relative_position_y'] < 0).astype(int)\n",
    "data['is_below'] = (data['relative_position_y'] > 0).astype(int)\n",
    "\n",
    "# Dataset contains binary directional features\n",
    "\n",
    "# Create interaction terms between rf_x and rf_y for pre-synaptic neurons\n",
    "data['pre_rf_x_rf_y_interaction'] = data['pre_rf_x'] * data['pre_rf_y']\n",
    "\n",
    "# Create interaction terms between rf_x and rf_y for post-synaptic neurons\n",
    "data['post_rf_x_rf_y_interaction'] = data['post_rf_x'] * data['post_rf_y']\n",
    "\n",
    "# The dataset now contains interaction terms that capture relationships in visual space"
   ]
  },
  {
   "cell_type": "code",
   "execution_count": null,
   "id": "8f12141e",
   "metadata": {},
   "outputs": [],
   "source": [
    "\n"
   ]
  },
  {
   "cell_type": "code",
   "execution_count": null,
   "id": "57b8f950",
   "metadata": {},
   "outputs": [],
   "source": []
  },
  {
   "cell_type": "code",
   "execution_count": null,
   "id": "925534f0",
   "metadata": {},
   "outputs": [],
   "source": []
  },
  {
   "cell_type": "code",
   "execution_count": null,
   "id": "ec3b25e2",
   "metadata": {},
   "outputs": [],
   "source": []
  },
  {
   "cell_type": "markdown",
   "id": "3c1285bb",
   "metadata": {},
   "source": [
    "#### Engineering the Morphological Embeddings"
   ]
  },
  {
   "cell_type": "code",
   "execution_count": 220,
   "id": "158bd245",
   "metadata": {},
   "outputs": [],
   "source": [
    "scaler = StandardScaler()\n",
    "data['pre_morph_embeddings'] = data['pre_morph_embeddings'].apply(lambda x: scaler.fit_transform(np.array(x).reshape(-1, 1)))\n",
    "data['post_morph_embeddings'] = data['post_morph_embeddings'].apply(lambda x: scaler.fit_transform(np.array(x).reshape(-1, 1)))\n",
    "\n"
   ]
  },
  {
   "cell_type": "code",
   "execution_count": 221,
   "id": "953354d6",
   "metadata": {},
   "outputs": [],
   "source": [
    "def flatten_arrays(arrays):\n",
    "    return [item for sublist in arrays for item in sublist]\n",
    "\n",
    "data['pre_morph_embeddings'] = data['pre_morph_embeddings'].apply(flatten_arrays)\n",
    "data['post_morph_embeddings'] = data['post_morph_embeddings'].apply(flatten_arrays)\n"
   ]
  },
  {
   "cell_type": "code",
   "execution_count": 222,
   "id": "29abf713",
   "metadata": {},
   "outputs": [
    {
     "data": {
      "text/plain": [
       "0         [0.6232024290914828, 0.4064975073674162, -0.03...\n",
       "1         [0.6232024290914828, 0.4064975073674162, -0.03...\n",
       "2         [0.6232024290914828, 0.4064975073674162, -0.03...\n",
       "3         [0.6232024290914828, 0.4064975073674162, -0.03...\n",
       "4         [0.6232024290914828, 0.4064975073674162, -0.03...\n",
       "                                ...                        \n",
       "185827    [-0.029840314426819902, 0.7348434172042577, -0...\n",
       "185828    [-0.029840314426819902, 0.7348434172042577, -0...\n",
       "185829    [-0.029840314426819902, 0.7348434172042577, -0...\n",
       "185830    [-0.029840314426819902, 0.7348434172042577, -0...\n",
       "185831    [-0.029840314426819902, 0.7348434172042577, -0...\n",
       "Name: pre_morph_embeddings, Length: 185832, dtype: object"
      ]
     },
     "execution_count": 222,
     "metadata": {},
     "output_type": "execute_result"
    }
   ],
   "source": [
    "data['pre_morph_embeddings']"
   ]
  },
  {
   "cell_type": "code",
   "execution_count": 223,
   "id": "0626f2bd",
   "metadata": {},
   "outputs": [],
   "source": [
    "from sklearn.decomposition import PCA\n",
    "import numpy as np\n",
    "\n",
    "# Ensure all arrays in 'pre_morph_embeddings' and 'post_morph_embeddings' have the same size\n",
    "data['pre_morph_embeddings'] = data['pre_morph_embeddings'].apply(lambda x: np.array(x) if len(x) == 32 else np.array([0.0] * 32))\n",
    "data['post_morph_embeddings'] = data['post_morph_embeddings'].apply(lambda x: np.array(x) if len(x) == 32 else np.array([0.0] * 32))\n",
    "\n",
    "# Apply PCA\n",
    "pca = PCA(n_components=2)\n",
    "data['pre_morph_embeddings'] = list(pca.fit_transform(np.vstack(data['pre_morph_embeddings'])))\n",
    "data['post_morph_embeddings'] = list(pca.fit_transform(np.vstack(data['post_morph_embeddings'])))\n"
   ]
  },
  {
   "cell_type": "code",
   "execution_count": 224,
   "id": "4fed17c2",
   "metadata": {},
   "outputs": [
    {
     "data": {
      "text/plain": [
       "0         [4.325374501135259, -1.4753532756345717]\n",
       "1         [4.325374501135145, -1.4753532756347483]\n",
       "2         [4.325374501135145, -1.4753532756346757]\n",
       "3         [4.325374501135145, -1.4753532756346752]\n",
       "4         [4.325374501135145, -1.4753532756346752]\n",
       "                            ...                   \n",
       "185827      [4.44458705311881, -1.215484364168003]\n",
       "185828      [4.44458705311881, -1.215484364168003]\n",
       "185829      [4.44458705311881, -1.215484364168003]\n",
       "185830      [4.44458705311881, -1.215484364168003]\n",
       "185831      [4.44458705311881, -1.215484364168003]\n",
       "Name: post_morph_embeddings, Length: 185832, dtype: object"
      ]
     },
     "execution_count": 224,
     "metadata": {},
     "output_type": "execute_result"
    }
   ],
   "source": [
    "data['post_morph_embeddings']"
   ]
  },
  {
   "cell_type": "markdown",
   "id": "7fc3df0f",
   "metadata": {},
   "source": [
    "### Engineering the Feature Weights column"
   ]
  },
  {
   "cell_type": "code",
   "execution_count": 225,
   "id": "d645dd04",
   "metadata": {},
   "outputs": [],
   "source": [
    "scaler = StandardScaler()\n",
    "data['pre_feature_weights'] = data['pre_feature_weights'].apply(lambda x: scaler.fit_transform(np.array(x).reshape(-1, 1)))\n",
    "data['post_feature_weights'] = data['post_feature_weights'].apply(lambda x: scaler.fit_transform(np.array(x).reshape(-1, 1)))\n",
    "\n",
    "\n",
    "def flatten_arrays(arrays):\n",
    "    return [item for sublist in arrays for item in sublist]\n",
    "\n",
    "data['pre_feature_weights'] = data['pre_feature_weights'].apply(flatten_arrays)\n",
    "data['post_feature_weights'] = data['post_feature_weights'].apply(flatten_arrays)\n",
    "\n",
    "\n",
    "# Apply PCApost_feature_weights\n",
    "pca = PCA(n_components=2)\n",
    "data['pre_feature_weights'] = list(pca.fit_transform(np.vstack(data['pre_feature_weights'])))\n",
    "data['post_feature_weights'] = list(pca.fit_transform(np.vstack(data['post_feature_weights'])))\n",
    "\n",
    "\n",
    "\n",
    "# # Extract feature weight columns\n",
    "# feature_weight_columns = ['pre_feature_weights', 'post_feature_weights']\n",
    "\n",
    "# # Standardize the data\n",
    "# scaler = StandardScaler()\n",
    "# data[feature_weight_columns] = scaler.fit_transform(data[feature_weight_columns])\n",
    "\n",
    "# # Create a PCA object\n",
    "# pca = PCA(n_components=2)\n",
    "# data_pca = pca.fit_transform(data[feature_weight_columns])\n"
   ]
  },
  {
   "cell_type": "code",
   "execution_count": 226,
   "id": "410f55a5",
   "metadata": {},
   "outputs": [
    {
     "data": {
      "text/plain": [
       "0         [-6.496702112733109, 3.1630279916105373]\n",
       "1         [-6.496702112738727, 3.1630279916103157]\n",
       "2         [-6.4967021127334625, 3.163027991586551]\n",
       "3         [-6.496702112736233, 3.1630279916188204]\n",
       "4         [-6.496702112736433, 3.1630279916150754]\n",
       "                            ...                   \n",
       "185827    [8.316861599333654, 0.25540881170080737]\n",
       "185828    [8.316861599333654, 0.25540881170080737]\n",
       "185829    [8.316861599333654, 0.25540881170080737]\n",
       "185830    [8.316861599333654, 0.25540881170080737]\n",
       "185831    [8.316861599333654, 0.25540881170080737]\n",
       "Name: pre_feature_weights, Length: 185832, dtype: object"
      ]
     },
     "execution_count": 226,
     "metadata": {},
     "output_type": "execute_result"
    }
   ],
   "source": [
    "data['pre_feature_weights']"
   ]
  },
  {
   "cell_type": "code",
   "execution_count": 227,
   "id": "725c1acf",
   "metadata": {},
   "outputs": [],
   "source": [
    "from scipy.stats import skew, kurtosis\n",
    "\n",
    "data['pre_feature_weights_sum'] = data['pre_feature_weights'].apply(lambda x: sum(x))\n",
    "data['post_feature_weights_sum'] = data['post_feature_weights'].apply(lambda x: sum(x))\n",
    "data['feature_weights_difference'] = abs(data['pre_feature_weights_sum'] - data['post_feature_weights_sum'])\n",
    "\n",
    "data['pre_feature_weights_variance'] = data['pre_feature_weights'].apply(lambda x: np.var(x))\n",
    "data['post_feature_weights_variance'] = data['post_feature_weights'].apply(lambda x: np.var(x))\n",
    "\n",
    "\n",
    "data['pre_feature_weights_skewness'] = data['pre_feature_weights'].apply(lambda x: skew(x))\n",
    "data['post_feature_weights_skewness'] = data['post_feature_weights'].apply(lambda x: skew(x))\n",
    "data['pre_feature_weights_kurtosis'] = data['pre_feature_weights'].apply(lambda x: kurtosis(x))\n",
    "data['post_feature_weights_kurtosis'] = data['post_feature_weights'].apply(lambda x: kurtosis(x))"
   ]
  },
  {
   "cell_type": "code",
   "execution_count": 229,
   "id": "9270cfce",
   "metadata": {},
   "outputs": [],
   "source": [
    "from scipy.stats import skew, kurtosis\n",
    "import numpy as np\n",
    "\n",
    "\n",
    "# Sum the morphological embeddings for pre and post neurons\n",
    "data['pre_morph_embeddings_sum'] = data['pre_morph_embeddings'].apply(lambda x: np.sum(x, axis=0))\n",
    "data['post_morph_embeddings_sum'] = data['post_morph_embeddings'].apply(lambda x: np.sum(x, axis=0))\n",
    "\n",
    "# Calculate the Euclidean distance between summed morphological embeddings\n",
    "data['morph_embeddings_distance'] = data.apply(lambda row: np.linalg.norm(row['pre_morph_embeddings_sum'] - row['post_morph_embeddings_sum']), axis=1)\n",
    "\n",
    "# Calculate the variance of morphological embeddings\n",
    "data['pre_morph_embeddings_variance'] = data['pre_morph_embeddings'].apply(lambda x: np.var(x, axis=0))\n",
    "data['post_morph_embeddings_variance'] = data['post_morph_embeddings'].apply(lambda x: np.var(x, axis=0))\n",
    "\n",
    "# Calculate the skewness and kurtosis of morphological embeddings\n",
    "data['pre_morph_embeddings_skewness'] = data['pre_morph_embeddings'].apply(lambda x: skew(x, axis=0))\n",
    "data['post_morph_embeddings_skewness'] = data['post_morph_embeddings'].apply(lambda x: skew(x, axis=0))\n",
    "data['pre_morph_embeddings_kurtosis'] = data['pre_morph_embeddings'].apply(lambda x: kurtosis(x, axis=0))\n",
    "data['post_morph_embeddings_kurtosis'] = data['post_morph_embeddings'].apply(lambda x: kurtosis(x, axis=0))\n"
   ]
  },
  {
   "cell_type": "code",
   "execution_count": 230,
   "id": "80641ab8",
   "metadata": {},
   "outputs": [
    {
     "name": "stdout",
     "output_type": "stream",
     "text": [
      "<class 'pandas.core.frame.DataFrame'>\n",
      "Int64Index: 185832 entries, 0 to 185831\n",
      "Data columns (total 67 columns):\n",
      " #   Column                          Non-Null Count   Dtype  \n",
      "---  ------                          --------------   -----  \n",
      " 0   ID                              185832 non-null  int64  \n",
      " 1   axonal_coor_x                   185832 non-null  int64  \n",
      " 2   axonal_coor_y                   185832 non-null  int64  \n",
      " 3   axonal_coor_z                   185832 non-null  int64  \n",
      " 4   dendritic_coor_x                185832 non-null  int64  \n",
      " 5   dendritic_coor_y                185832 non-null  int64  \n",
      " 6   dendritic_coor_z                185832 non-null  int64  \n",
      " 7   adp_dist                        185832 non-null  float64\n",
      " 8   post_skeletal_distance_to_soma  185832 non-null  float64\n",
      " 9   pre_skeletal_distance_to_soma   185832 non-null  float64\n",
      " 10  pre_oracle                      185832 non-null  float64\n",
      " 11  pre_test_score                  185832 non-null  float64\n",
      " 12  pre_rf_x                        185832 non-null  float64\n",
      " 13  pre_rf_y                        185832 non-null  float64\n",
      " 14  post_oracle                     185832 non-null  float64\n",
      " 15  post_test_score                 185832 non-null  float64\n",
      " 16  post_rf_x                       185832 non-null  float64\n",
      " 17  post_rf_y                       185832 non-null  float64\n",
      " 18  compartment                     185832 non-null  int32  \n",
      " 19  pre_brain_area                  185832 non-null  int32  \n",
      " 20  post_brain_area                 185832 non-null  int32  \n",
      " 21  pre_nucleus_x                   185832 non-null  int64  \n",
      " 22  pre_nucleus_y                   185832 non-null  int64  \n",
      " 23  pre_nucleus_z                   185832 non-null  int64  \n",
      " 24  post_nucleus_x                  185832 non-null  int64  \n",
      " 25  post_nucleus_y                  185832 non-null  int64  \n",
      " 26  post_nucleus_z                  185832 non-null  int64  \n",
      " 27  pre_nucleus_id                  185832 non-null  int64  \n",
      " 28  post_nucleus_id                 185832 non-null  int64  \n",
      " 29  connected                       185832 non-null  bool   \n",
      " 30  pre_feature_weights             185832 non-null  object \n",
      " 31  post_feature_weights            185832 non-null  object \n",
      " 32  pre_morph_embeddings            185832 non-null  object \n",
      " 33  post_morph_embeddings           185832 non-null  object \n",
      " 34  euclidean_distance              185832 non-null  float64\n",
      " 35  axonal_distance_pre             185832 non-null  float64\n",
      " 36  axonal_distance_post            185832 non-null  float64\n",
      " 37  dendritic_distance_pre          185832 non-null  float64\n",
      " 38  dendritic_distance_post         185832 non-null  float64\n",
      " 39  euclidean_distance_pre          185832 non-null  float64\n",
      " 40  euclidean_distance_post         185832 non-null  float64\n",
      " 41  relative_position_x             185832 non-null  float64\n",
      " 42  relative_position_y             185832 non-null  float64\n",
      " 43  is_left                         185832 non-null  int32  \n",
      " 44  is_right                        185832 non-null  int32  \n",
      " 45  is_above                        185832 non-null  int32  \n",
      " 46  is_below                        185832 non-null  int32  \n",
      " 47  pre_rf_x_rf_y_interaction       185832 non-null  float64\n",
      " 48  post_rf_x_rf_y_interaction      185832 non-null  float64\n",
      " 49  pre_feature_weights_sum         185832 non-null  float64\n",
      " 50  post_feature_weights_sum        185832 non-null  float64\n",
      " 51  feature_weights_difference      185832 non-null  float64\n",
      " 52  pre_feature_weights_variance    185832 non-null  float64\n",
      " 53  post_feature_weights_variance   185832 non-null  float64\n",
      " 54  pre_feature_weights_skewness    185832 non-null  float64\n",
      " 55  post_feature_weights_skewness   185832 non-null  float64\n",
      " 56  pre_feature_weights_kurtosis    185832 non-null  float64\n",
      " 57  post_feature_weights_kurtosis   185832 non-null  float64\n",
      " 58  pre_morph_embeddings_sum        185832 non-null  float64\n",
      " 59  post_morph_embeddings_sum       185832 non-null  float64\n",
      " 60  morph_embeddings_distance       185832 non-null  float64\n",
      " 61  pre_morph_embeddings_variance   185832 non-null  float64\n",
      " 62  post_morph_embeddings_variance  185832 non-null  float64\n",
      " 63  pre_morph_embeddings_skewness   185832 non-null  float64\n",
      " 64  post_morph_embeddings_skewness  185832 non-null  float64\n",
      " 65  pre_morph_embeddings_kurtosis   185832 non-null  float64\n",
      " 66  post_morph_embeddings_kurtosis  185832 non-null  float64\n",
      "dtypes: bool(1), float64(40), int32(7), int64(15), object(4)\n",
      "memory usage: 90.2+ MB\n"
     ]
    }
   ],
   "source": [
    "data.info()\n"
   ]
  },
  {
   "cell_type": "markdown",
   "id": "0ee81039",
   "metadata": {},
   "source": [
    "### Perform PCA on the whole dataset"
   ]
  },
  {
   "cell_type": "code",
   "execution_count": null,
   "id": "805bd8bb",
   "metadata": {},
   "outputs": [],
   "source": []
  },
  {
   "cell_type": "code",
   "execution_count": 80,
   "id": "d09721a7",
   "metadata": {},
   "outputs": [],
   "source": [
    "# data = data.select_dtypes(exclude=['object'])"
   ]
  },
  {
   "cell_type": "code",
   "execution_count": 231,
   "id": "ee8f052a",
   "metadata": {},
   "outputs": [
    {
     "name": "stdout",
     "output_type": "stream",
     "text": [
      "<class 'pandas.core.frame.DataFrame'>\n",
      "Int64Index: 185832 entries, 0 to 185831\n",
      "Data columns (total 67 columns):\n",
      " #   Column                          Non-Null Count   Dtype  \n",
      "---  ------                          --------------   -----  \n",
      " 0   ID                              185832 non-null  int64  \n",
      " 1   axonal_coor_x                   185832 non-null  int64  \n",
      " 2   axonal_coor_y                   185832 non-null  int64  \n",
      " 3   axonal_coor_z                   185832 non-null  int64  \n",
      " 4   dendritic_coor_x                185832 non-null  int64  \n",
      " 5   dendritic_coor_y                185832 non-null  int64  \n",
      " 6   dendritic_coor_z                185832 non-null  int64  \n",
      " 7   adp_dist                        185832 non-null  float64\n",
      " 8   post_skeletal_distance_to_soma  185832 non-null  float64\n",
      " 9   pre_skeletal_distance_to_soma   185832 non-null  float64\n",
      " 10  pre_oracle                      185832 non-null  float64\n",
      " 11  pre_test_score                  185832 non-null  float64\n",
      " 12  pre_rf_x                        185832 non-null  float64\n",
      " 13  pre_rf_y                        185832 non-null  float64\n",
      " 14  post_oracle                     185832 non-null  float64\n",
      " 15  post_test_score                 185832 non-null  float64\n",
      " 16  post_rf_x                       185832 non-null  float64\n",
      " 17  post_rf_y                       185832 non-null  float64\n",
      " 18  compartment                     185832 non-null  int32  \n",
      " 19  pre_brain_area                  185832 non-null  int32  \n",
      " 20  post_brain_area                 185832 non-null  int32  \n",
      " 21  pre_nucleus_x                   185832 non-null  int64  \n",
      " 22  pre_nucleus_y                   185832 non-null  int64  \n",
      " 23  pre_nucleus_z                   185832 non-null  int64  \n",
      " 24  post_nucleus_x                  185832 non-null  int64  \n",
      " 25  post_nucleus_y                  185832 non-null  int64  \n",
      " 26  post_nucleus_z                  185832 non-null  int64  \n",
      " 27  pre_nucleus_id                  185832 non-null  int64  \n",
      " 28  post_nucleus_id                 185832 non-null  int64  \n",
      " 29  connected                       185832 non-null  bool   \n",
      " 30  pre_feature_weights             185832 non-null  object \n",
      " 31  post_feature_weights            185832 non-null  object \n",
      " 32  pre_morph_embeddings            185832 non-null  object \n",
      " 33  post_morph_embeddings           185832 non-null  object \n",
      " 34  euclidean_distance              185832 non-null  float64\n",
      " 35  axonal_distance_pre             185832 non-null  float64\n",
      " 36  axonal_distance_post            185832 non-null  float64\n",
      " 37  dendritic_distance_pre          185832 non-null  float64\n",
      " 38  dendritic_distance_post         185832 non-null  float64\n",
      " 39  euclidean_distance_pre          185832 non-null  float64\n",
      " 40  euclidean_distance_post         185832 non-null  float64\n",
      " 41  relative_position_x             185832 non-null  float64\n",
      " 42  relative_position_y             185832 non-null  float64\n",
      " 43  is_left                         185832 non-null  int32  \n",
      " 44  is_right                        185832 non-null  int32  \n",
      " 45  is_above                        185832 non-null  int32  \n",
      " 46  is_below                        185832 non-null  int32  \n",
      " 47  pre_rf_x_rf_y_interaction       185832 non-null  float64\n",
      " 48  post_rf_x_rf_y_interaction      185832 non-null  float64\n",
      " 49  pre_feature_weights_sum         185832 non-null  float64\n",
      " 50  post_feature_weights_sum        185832 non-null  float64\n",
      " 51  feature_weights_difference      185832 non-null  float64\n",
      " 52  pre_feature_weights_variance    185832 non-null  float64\n",
      " 53  post_feature_weights_variance   185832 non-null  float64\n",
      " 54  pre_feature_weights_skewness    185832 non-null  float64\n",
      " 55  post_feature_weights_skewness   185832 non-null  float64\n",
      " 56  pre_feature_weights_kurtosis    185832 non-null  float64\n",
      " 57  post_feature_weights_kurtosis   185832 non-null  float64\n",
      " 58  pre_morph_embeddings_sum        185832 non-null  float64\n",
      " 59  post_morph_embeddings_sum       185832 non-null  float64\n",
      " 60  morph_embeddings_distance       185832 non-null  float64\n",
      " 61  pre_morph_embeddings_variance   185832 non-null  float64\n",
      " 62  post_morph_embeddings_variance  185832 non-null  float64\n",
      " 63  pre_morph_embeddings_skewness   185832 non-null  float64\n",
      " 64  post_morph_embeddings_skewness  185832 non-null  float64\n",
      " 65  pre_morph_embeddings_kurtosis   185832 non-null  float64\n",
      " 66  post_morph_embeddings_kurtosis  185832 non-null  float64\n",
      "dtypes: bool(1), float64(40), int32(7), int64(15), object(4)\n",
      "memory usage: 90.2+ MB\n"
     ]
    }
   ],
   "source": [
    "data.info()\n"
   ]
  },
  {
   "cell_type": "code",
   "execution_count": null,
   "id": "df318676",
   "metadata": {},
   "outputs": [],
   "source": []
  },
  {
   "cell_type": "code",
   "execution_count": null,
   "id": "4a975c03",
   "metadata": {},
   "outputs": [],
   "source": []
  },
  {
   "cell_type": "code",
   "execution_count": null,
   "id": "efffb8d7",
   "metadata": {},
   "outputs": [],
   "source": []
  },
  {
   "cell_type": "code",
   "execution_count": null,
   "id": "0ffcc579",
   "metadata": {},
   "outputs": [],
   "source": []
  },
  {
   "cell_type": "code",
   "execution_count": 232,
   "id": "fd56ec57",
   "metadata": {},
   "outputs": [
    {
     "name": "stdout",
     "output_type": "stream",
     "text": [
      "<class 'pandas.core.frame.DataFrame'>\n",
      "Int64Index: 185832 entries, 0 to 185831\n",
      "Data columns (total 67 columns):\n",
      " #   Column                          Non-Null Count   Dtype  \n",
      "---  ------                          --------------   -----  \n",
      " 0   ID                              185832 non-null  int64  \n",
      " 1   axonal_coor_x                   185832 non-null  int64  \n",
      " 2   axonal_coor_y                   185832 non-null  int64  \n",
      " 3   axonal_coor_z                   185832 non-null  int64  \n",
      " 4   dendritic_coor_x                185832 non-null  int64  \n",
      " 5   dendritic_coor_y                185832 non-null  int64  \n",
      " 6   dendritic_coor_z                185832 non-null  int64  \n",
      " 7   adp_dist                        185832 non-null  float64\n",
      " 8   post_skeletal_distance_to_soma  185832 non-null  float64\n",
      " 9   pre_skeletal_distance_to_soma   185832 non-null  float64\n",
      " 10  pre_oracle                      185832 non-null  float64\n",
      " 11  pre_test_score                  185832 non-null  float64\n",
      " 12  pre_rf_x                        185832 non-null  float64\n",
      " 13  pre_rf_y                        185832 non-null  float64\n",
      " 14  post_oracle                     185832 non-null  float64\n",
      " 15  post_test_score                 185832 non-null  float64\n",
      " 16  post_rf_x                       185832 non-null  float64\n",
      " 17  post_rf_y                       185832 non-null  float64\n",
      " 18  compartment                     185832 non-null  int32  \n",
      " 19  pre_brain_area                  185832 non-null  int32  \n",
      " 20  post_brain_area                 185832 non-null  int32  \n",
      " 21  pre_nucleus_x                   185832 non-null  int64  \n",
      " 22  pre_nucleus_y                   185832 non-null  int64  \n",
      " 23  pre_nucleus_z                   185832 non-null  int64  \n",
      " 24  post_nucleus_x                  185832 non-null  int64  \n",
      " 25  post_nucleus_y                  185832 non-null  int64  \n",
      " 26  post_nucleus_z                  185832 non-null  int64  \n",
      " 27  pre_nucleus_id                  185832 non-null  int64  \n",
      " 28  post_nucleus_id                 185832 non-null  int64  \n",
      " 29  connected                       185832 non-null  bool   \n",
      " 30  pre_feature_weights             185832 non-null  object \n",
      " 31  post_feature_weights            185832 non-null  object \n",
      " 32  pre_morph_embeddings            185832 non-null  object \n",
      " 33  post_morph_embeddings           185832 non-null  object \n",
      " 34  euclidean_distance              185832 non-null  float64\n",
      " 35  axonal_distance_pre             185832 non-null  float64\n",
      " 36  axonal_distance_post            185832 non-null  float64\n",
      " 37  dendritic_distance_pre          185832 non-null  float64\n",
      " 38  dendritic_distance_post         185832 non-null  float64\n",
      " 39  euclidean_distance_pre          185832 non-null  float64\n",
      " 40  euclidean_distance_post         185832 non-null  float64\n",
      " 41  relative_position_x             185832 non-null  float64\n",
      " 42  relative_position_y             185832 non-null  float64\n",
      " 43  is_left                         185832 non-null  int32  \n",
      " 44  is_right                        185832 non-null  int32  \n",
      " 45  is_above                        185832 non-null  int32  \n",
      " 46  is_below                        185832 non-null  int32  \n",
      " 47  pre_rf_x_rf_y_interaction       185832 non-null  float64\n",
      " 48  post_rf_x_rf_y_interaction      185832 non-null  float64\n",
      " 49  pre_feature_weights_sum         185832 non-null  float64\n",
      " 50  post_feature_weights_sum        185832 non-null  float64\n",
      " 51  feature_weights_difference      185832 non-null  float64\n",
      " 52  pre_feature_weights_variance    185832 non-null  float64\n",
      " 53  post_feature_weights_variance   185832 non-null  float64\n",
      " 54  pre_feature_weights_skewness    185832 non-null  float64\n",
      " 55  post_feature_weights_skewness   185832 non-null  float64\n",
      " 56  pre_feature_weights_kurtosis    185832 non-null  float64\n",
      " 57  post_feature_weights_kurtosis   185832 non-null  float64\n",
      " 58  pre_morph_embeddings_sum        185832 non-null  float64\n",
      " 59  post_morph_embeddings_sum       185832 non-null  float64\n",
      " 60  morph_embeddings_distance       185832 non-null  float64\n",
      " 61  pre_morph_embeddings_variance   185832 non-null  float64\n",
      " 62  post_morph_embeddings_variance  185832 non-null  float64\n",
      " 63  pre_morph_embeddings_skewness   185832 non-null  float64\n",
      " 64  post_morph_embeddings_skewness  185832 non-null  float64\n",
      " 65  pre_morph_embeddings_kurtosis   185832 non-null  float64\n",
      " 66  post_morph_embeddings_kurtosis  185832 non-null  float64\n",
      "dtypes: bool(1), float64(40), int32(7), int64(15), object(4)\n",
      "memory usage: 90.2+ MB\n"
     ]
    }
   ],
   "source": [
    "data.info()"
   ]
  },
  {
   "cell_type": "markdown",
   "id": "1d6717c6",
   "metadata": {},
   "source": [
    "## Example: Basic Feature Engineering"
   ]
  },
  {
   "cell_type": "markdown",
   "id": "5d306806",
   "metadata": {},
   "source": [
    "### Exploration: Neurons that form a synpase tend to have similar functional neural responses"
   ]
  },
  {
   "cell_type": "markdown",
   "id": "97bc6105",
   "metadata": {},
   "source": [
    "Neurons in the visual cortex each respond differently to visual stimuli.  This is often captured by a neuron's tuning function, or the visual features that drive a neuron to fire.  The feature weight vectors ('feature_weights') are a kind of summary of each neuron's tuning function.  Neuroscience suggests that neurons with similar tuning are slightly more likely to be connected.  To assess this, we would need to engineer a new feature that capture the tuning similarity of the pre- and post- synaptic neurons for each ADP.  (See the documentation for more details).  "
   ]
  },
  {
   "cell_type": "code",
   "execution_count": 83,
   "id": "abe2e406",
   "metadata": {},
   "outputs": [
    {
     "name": "stdout",
     "output_type": "stream",
     "text": [
      "<class 'pandas.core.frame.DataFrame'>\n",
      "Int64Index: 185832 entries, 0 to 185831\n",
      "Data columns (total 49 columns):\n",
      " #   Column                          Non-Null Count   Dtype  \n",
      "---  ------                          --------------   -----  \n",
      " 0   ID                              185832 non-null  int64  \n",
      " 1   axonal_coor_x                   185832 non-null  int64  \n",
      " 2   axonal_coor_y                   185832 non-null  int64  \n",
      " 3   axonal_coor_z                   185832 non-null  int64  \n",
      " 4   dendritic_coor_x                185832 non-null  int64  \n",
      " 5   dendritic_coor_y                185832 non-null  int64  \n",
      " 6   dendritic_coor_z                185832 non-null  int64  \n",
      " 7   adp_dist                        185832 non-null  float64\n",
      " 8   post_skeletal_distance_to_soma  185832 non-null  float64\n",
      " 9   pre_skeletal_distance_to_soma   185832 non-null  float64\n",
      " 10  pre_oracle                      185832 non-null  float64\n",
      " 11  pre_test_score                  185832 non-null  float64\n",
      " 12  pre_rf_x                        185832 non-null  float64\n",
      " 13  pre_rf_y                        185832 non-null  float64\n",
      " 14  post_oracle                     185832 non-null  float64\n",
      " 15  post_test_score                 185832 non-null  float64\n",
      " 16  post_rf_x                       185832 non-null  float64\n",
      " 17  post_rf_y                       185832 non-null  float64\n",
      " 18  compartment                     185832 non-null  int32  \n",
      " 19  pre_brain_area                  185832 non-null  int32  \n",
      " 20  post_brain_area                 185832 non-null  int32  \n",
      " 21  pre_nucleus_x                   185832 non-null  int64  \n",
      " 22  pre_nucleus_y                   185832 non-null  int64  \n",
      " 23  pre_nucleus_z                   185832 non-null  int64  \n",
      " 24  post_nucleus_x                  185832 non-null  int64  \n",
      " 25  post_nucleus_y                  185832 non-null  int64  \n",
      " 26  post_nucleus_z                  185832 non-null  int64  \n",
      " 27  pre_nucleus_id                  185832 non-null  int64  \n",
      " 28  post_nucleus_id                 185832 non-null  int64  \n",
      " 29  connected                       185832 non-null  bool   \n",
      " 30  pre_feature_weights             185832 non-null  object \n",
      " 31  post_feature_weights            185832 non-null  object \n",
      " 32  pre_morph_embeddings            185832 non-null  object \n",
      " 33  post_morph_embeddings           185832 non-null  object \n",
      " 34  euclidean_distance              185832 non-null  float64\n",
      " 35  axonal_distance_pre             185832 non-null  float64\n",
      " 36  axonal_distance_post            185832 non-null  float64\n",
      " 37  dendritic_distance_pre          185832 non-null  float64\n",
      " 38  dendritic_distance_post         185832 non-null  float64\n",
      " 39  euclidean_distance_pre          185832 non-null  float64\n",
      " 40  euclidean_distance_post         185832 non-null  float64\n",
      " 41  relative_position_x             185832 non-null  float64\n",
      " 42  relative_position_y             185832 non-null  float64\n",
      " 43  is_left                         185832 non-null  int32  \n",
      " 44  is_right                        185832 non-null  int32  \n",
      " 45  is_above                        185832 non-null  int32  \n",
      " 46  is_below                        185832 non-null  int32  \n",
      " 47  pre_rf_x_rf_y_interaction       185832 non-null  float64\n",
      " 48  post_rf_x_rf_y_interaction      185832 non-null  float64\n",
      "dtypes: bool(1), float64(22), int32(7), int64(15), object(4)\n",
      "memory usage: 64.7+ MB\n"
     ]
    }
   ],
   "source": [
    "data.info()"
   ]
  },
  {
   "cell_type": "code",
   "execution_count": 233,
   "id": "e6679b5c",
   "metadata": {},
   "outputs": [],
   "source": [
    "\n",
    "#cosine similarity function\n",
    "def row_feature_similarity(row):\n",
    "    pre = row[\"pre_feature_weights\"]\n",
    "    post = row[\"post_feature_weights\"]\n",
    "    return (pre * post).sum() / (np.linalg.norm(pre) * np.linalg.norm(post))\n",
    "\n",
    "# def row_morph_embeddings(row):\n",
    "#     pre = row[\"pre_morph_embeddings\"]\n",
    "#     post = row[\"post_morph_embeddings\"]\n",
    "#     return (pre * post).sum() / (np.linalg.norm(pre) * np.linalg.norm(post))\n",
    "\n",
    "\n",
    " \n",
    "\n",
    "# def row_oracle(row):\n",
    "#     pre = row[\"pre_oracle\"]\n",
    "#     post = row[\"post_oracle\"]\n",
    "#     return (pre * post).sum() / (np.linalg.norm(pre) * np.linalg.norm(post))\n",
    "\n",
    "# def row_rf_x(row):\n",
    "#     pre = np.array(row[\"pre_rf_x\"])\n",
    "#     post = np.array(row[\"post_rf_x\"])\n",
    "#     return (pre * post).sum() / (np.linalg.norm(pre) * np.linalg.norm(post))\n",
    "\n",
    "# def row_rf_y(row):\n",
    "#     pre = np.array(row[\"pre_rf_y\"])\n",
    "#     post = np.array(row[\"post_rf_y\"])\n",
    "#     return (pre * post).sum() / (np.linalg.norm(pre) * np.linalg.norm(post))\n",
    "\n",
    "    \n",
    "\n",
    "    "
   ]
  },
  {
   "cell_type": "code",
   "execution_count": 234,
   "id": "bd8acbd5",
   "metadata": {},
   "outputs": [
    {
     "name": "stdout",
     "output_type": "stream",
     "text": [
      "0          [0.7874549293809473, -0.5553607679224069]\n",
      "1          [0.7874549293807959, -0.5553607679228016]\n",
      "2          [0.7874549293807841, -0.5553607679225818]\n",
      "3          [0.7874549293807893, -0.5553607679226082]\n",
      "4           [0.7874549293807895, -0.555360767922601]\n",
      "                             ...                    \n",
      "185827    [-2.6152764441033796, -3.6873775139237317]\n",
      "185828    [-2.6152764441033796, -3.6873775139237317]\n",
      "185829    [-2.6152764441033796, -3.6873775139237317]\n",
      "185830    [-2.6152764441033796, -3.6873775139237317]\n",
      "185831    [-2.6152764441033796, -3.6873775139237317]\n",
      "Name: post_feature_weights, Length: 185832, dtype: object\n"
     ]
    }
   ],
   "source": [
    "column_name = \"post_feature_weights\"\n",
    "\n",
    "print(data[column_name])\n",
    "\n"
   ]
  },
  {
   "cell_type": "code",
   "execution_count": 235,
   "id": "800579a8",
   "metadata": {},
   "outputs": [
    {
     "name": "stdout",
     "output_type": "stream",
     "text": [
      "[ 4.3253745  -1.47535328]\n"
     ]
    }
   ],
   "source": [
    "column_name = \"post_morph_embeddings\"\n",
    "row_index = 4  \n",
    "\n",
    "# Access the column first and then the row\n",
    "value = data[column_name][row_index]\n",
    "\n",
    "# Print the value\n",
    "print(value)\n"
   ]
  },
  {
   "cell_type": "code",
   "execution_count": 236,
   "id": "3388f91f",
   "metadata": {},
   "outputs": [],
   "source": [
    "# compute the cosine similarity between the pre- and post- feature weights\n",
    "data[\"fw_similarity\"] = data.apply(row_feature_similarity, axis=1)\n",
    "# data[\"morph_embeddings\"] = data.apply(row_morph_embeddings, axis=1)\n",
    "\n",
    "# data[\"rf_x\"] = data.apply(row_rf_x, axis=1)\n",
    "# data[\"rf_y\"] = data.apply(row_rf_y, axis=1)\n",
    "# data[\"oracle\"] = data.apply(row_oracle, axis=1)"
   ]
  },
  {
   "cell_type": "code",
   "execution_count": 237,
   "id": "2bd80efe",
   "metadata": {},
   "outputs": [
    {
     "data": {
      "text/plain": [
       "<seaborn.axisgrid.FacetGrid at 0x1e6761ea110>"
      ]
     },
     "execution_count": 237,
     "metadata": {},
     "output_type": "execute_result"
    },
    {
     "data": {
      "image/png": "[encoded data removed]",
      "text/plain": [
       "<Figure size 500x500 with 1 Axes>"
      ]
     },
     "metadata": {},
     "output_type": "display_data"
    }
   ],
   "source": [
    "#visualize these results\n",
    "sns.catplot(data=data, x='connected', y='fw_similarity', kind='boxen')\n",
    "# sns.catplot(data=data, x='connected', y='post_morph_embeddings', kind='boxen')"
   ]
  },
  {
   "cell_type": "markdown",
   "id": "01035751",
   "metadata": {},
   "source": [
    "There may be a very, very slight difference, but we can investigate this further."
   ]
  },
  {
   "cell_type": "markdown",
   "id": "106744b9",
   "metadata": {},
   "source": [
    "### Exploration: Similar functional nerual responses by projection region in the brain"
   ]
  },
  {
   "cell_type": "markdown",
   "id": "7fe3de1b",
   "metadata": {},
   "source": [
    "Projection regions indicate the brain regions where the pre-synaptic and post-synaptic neurons are located in the brain.  Each brain region is responsible for different neural functions.  We can engineer a new feature to capture the projection regions and perhaps see if similar neural tuning is affiliated with connecitons in particular projection regions.  For example, it has been shown that connected neurons have slightly more similar neural tuning than unconnected neurons in the V1->V1 projection region."
   ]
  },
  {
   "cell_type": "code",
   "execution_count": 238,
   "id": "29908dfb",
   "metadata": {},
   "outputs": [],
   "source": [
    "# generate projection group as pre->post\n",
    "data[\"projection_group\"] = (\n",
    "    data[\"pre_brain_area\"].astype(str)\n",
    "    + \"->\"\n",
    "    + data[\"post_brain_area\"].astype(str)\n",
    ")"
   ]
  },
  {
   "cell_type": "code",
   "execution_count": 239,
   "id": "e7b83b7b",
   "metadata": {},
   "outputs": [
    {
     "data": {
      "text/plain": [
       "<seaborn.axisgrid.FacetGrid at 0x1e4edbb2d10>"
      ]
     },
     "execution_count": 239,
     "metadata": {},
     "output_type": "execute_result"
    },
    {
     "data": {
      "image/png": "[encoded data removed]",
      "text/plain": [
       "<Figure size 884.875x800 with 4 Axes>"
      ]
     },
     "metadata": {},
     "output_type": "display_data"
    }
   ],
   "source": [
    "# check the distribution of the cosine similarity for projections groups with more than 100 synapses\n",
    "projection_group_counts = data.query('connected')['projection_group'].value_counts()\n",
    "projection_group_counts = projection_group_counts[projection_group_counts > 100].index\n",
    "sns.displot(\n",
    "    data=data.query('projection_group in @projection_group_counts'), \n",
    "    x='fw_similarity', \n",
    "    hue='connected', \n",
    "    row='projection_group',\n",
    "    common_norm=False, \n",
    "    stat='probability',\n",
    "    binwidth=.02,\n",
    "    height=2,\n",
    "    aspect=4,\n",
    "    facet_kws={'sharey': False}\n",
    ")"
   ]
  },
  {
   "cell_type": "code",
   "execution_count": 240,
   "id": "1582585b",
   "metadata": {},
   "outputs": [
    {
     "data": {
      "image/png": "[encoded data removed]",
      "text/plain": [
       "<Figure size 584.875x500 with 1 Axes>"
      ]
     },
     "metadata": {},
     "output_type": "display_data"
    }
   ],
   "source": [
    "sns.catplot(data=data, x='projection_group', y='fw_similarity', hue='connected', kind='bar', alpha=.7)\n",
    "plt.tight_layout()\n",
    "plt.legend(bbox_to_anchor=(1.05, 1), loc=2, borderaxespad=0.);\n",
    "plt.xticks(rotation=90);"
   ]
  },
  {
   "cell_type": "markdown",
   "id": "2dc827ab",
   "metadata": {},
   "source": [
    "We have shown some simple examples of how to engineer new features and also shown that these are related to neuron connectivity.  You will likley need to explore and engineer many other possible features in this competition.  "
   ]
  },
  {
   "cell_type": "markdown",
   "id": "3a78d7f6",
   "metadata": {},
   "source": [
    "## Example: Logistic Regression"
   ]
  },
  {
   "cell_type": "code",
   "execution_count": 241,
   "id": "a0501a1a",
   "metadata": {},
   "outputs": [
    {
     "name": "stdout",
     "output_type": "stream",
     "text": [
      "<class 'pandas.core.frame.DataFrame'>\n",
      "Int64Index: 185832 entries, 0 to 185831\n",
      "Data columns (total 69 columns):\n",
      " #   Column                          Non-Null Count   Dtype  \n",
      "---  ------                          --------------   -----  \n",
      " 0   ID                              185832 non-null  int64  \n",
      " 1   axonal_coor_x                   185832 non-null  int64  \n",
      " 2   axonal_coor_y                   185832 non-null  int64  \n",
      " 3   axonal_coor_z                   185832 non-null  int64  \n",
      " 4   dendritic_coor_x                185832 non-null  int64  \n",
      " 5   dendritic_coor_y                185832 non-null  int64  \n",
      " 6   dendritic_coor_z                185832 non-null  int64  \n",
      " 7   adp_dist                        185832 non-null  float64\n",
      " 8   post_skeletal_distance_to_soma  185832 non-null  float64\n",
      " 9   pre_skeletal_distance_to_soma   185832 non-null  float64\n",
      " 10  pre_oracle                      185832 non-null  float64\n",
      " 11  pre_test_score                  185832 non-null  float64\n",
      " 12  pre_rf_x                        185832 non-null  float64\n",
      " 13  pre_rf_y                        185832 non-null  float64\n",
      " 14  post_oracle                     185832 non-null  float64\n",
      " 15  post_test_score                 185832 non-null  float64\n",
      " 16  post_rf_x                       185832 non-null  float64\n",
      " 17  post_rf_y                       185832 non-null  float64\n",
      " 18  compartment                     185832 non-null  int32  \n",
      " 19  pre_brain_area                  185832 non-null  int32  \n",
      " 20  post_brain_area                 185832 non-null  int32  \n",
      " 21  pre_nucleus_x                   185832 non-null  int64  \n",
      " 22  pre_nucleus_y                   185832 non-null  int64  \n",
      " 23  pre_nucleus_z                   185832 non-null  int64  \n",
      " 24  post_nucleus_x                  185832 non-null  int64  \n",
      " 25  post_nucleus_y                  185832 non-null  int64  \n",
      " 26  post_nucleus_z                  185832 non-null  int64  \n",
      " 27  pre_nucleus_id                  185832 non-null  int64  \n",
      " 28  post_nucleus_id                 185832 non-null  int64  \n",
      " 29  connected                       185832 non-null  bool   \n",
      " 30  pre_feature_weights             185832 non-null  object \n",
      " 31  post_feature_weights            185832 non-null  object \n",
      " 32  pre_morph_embeddings            185832 non-null  object \n",
      " 33  post_morph_embeddings           185832 non-null  object \n",
      " 34  euclidean_distance              185832 non-null  float64\n",
      " 35  axonal_distance_pre             185832 non-null  float64\n",
      " 36  axonal_distance_post            185832 non-null  float64\n",
      " 37  dendritic_distance_pre          185832 non-null  float64\n",
      " 38  dendritic_distance_post         185832 non-null  float64\n",
      " 39  euclidean_distance_pre          185832 non-null  float64\n",
      " 40  euclidean_distance_post         185832 non-null  float64\n",
      " 41  relative_position_x             185832 non-null  float64\n",
      " 42  relative_position_y             185832 non-null  float64\n",
      " 43  is_left                         185832 non-null  int32  \n",
      " 44  is_right                        185832 non-null  int32  \n",
      " 45  is_above                        185832 non-null  int32  \n",
      " 46  is_below                        185832 non-null  int32  \n",
      " 47  pre_rf_x_rf_y_interaction       185832 non-null  float64\n",
      " 48  post_rf_x_rf_y_interaction      185832 non-null  float64\n",
      " 49  pre_feature_weights_sum         185832 non-null  float64\n",
      " 50  post_feature_weights_sum        185832 non-null  float64\n",
      " 51  feature_weights_difference      185832 non-null  float64\n",
      " 52  pre_feature_weights_variance    185832 non-null  float64\n",
      " 53  post_feature_weights_variance   185832 non-null  float64\n",
      " 54  pre_feature_weights_skewness    185832 non-null  float64\n",
      " 55  post_feature_weights_skewness   185832 non-null  float64\n",
      " 56  pre_feature_weights_kurtosis    185832 non-null  float64\n",
      " 57  post_feature_weights_kurtosis   185832 non-null  float64\n",
      " 58  pre_morph_embeddings_sum        185832 non-null  float64\n",
      " 59  post_morph_embeddings_sum       185832 non-null  float64\n",
      " 60  morph_embeddings_distance       185832 non-null  float64\n",
      " 61  pre_morph_embeddings_variance   185832 non-null  float64\n",
      " 62  post_morph_embeddings_variance  185832 non-null  float64\n",
      " 63  pre_morph_embeddings_skewness   185832 non-null  float64\n",
      " 64  post_morph_embeddings_skewness  185832 non-null  float64\n",
      " 65  pre_morph_embeddings_kurtosis   185832 non-null  float64\n",
      " 66  post_morph_embeddings_kurtosis  185832 non-null  float64\n",
      " 67  fw_similarity                   185832 non-null  float64\n",
      " 68  projection_group                185832 non-null  object \n",
      "dtypes: bool(1), float64(41), int32(7), int64(15), object(5)\n",
      "memory usage: 97.1+ MB\n"
     ]
    }
   ],
   "source": [
    "data.info()"
   ]
  },
  {
   "cell_type": "code",
   "execution_count": 242,
   "id": "4c0f4ef6",
   "metadata": {},
   "outputs": [
    {
     "name": "stdout",
     "output_type": "stream",
     "text": [
      "0         [3.6130228898090047, -1.6114389622344705]\n",
      "1          [3.613022889808816, -1.6114389622401992]\n",
      "2         [3.6130228898088137, -1.6114389622403005]\n",
      "3         [3.6130228898088137, -1.6114389622403007]\n",
      "4         [3.6130228898088137, -1.6114389622403005]\n",
      "                            ...                    \n",
      "185827    [2.3873571371336655, -1.1669078599815337]\n",
      "185828    [2.3873571371336655, -1.1669078599815337]\n",
      "185829    [2.3873571371336655, -1.1669078599815337]\n",
      "185830    [2.3873571371336655, -1.1669078599815337]\n",
      "185831    [2.3873571371336655, -1.1669078599815337]\n",
      "Name: pre_morph_embeddings, Length: 185832, dtype: object\n"
     ]
    }
   ],
   "source": [
    "print(data['pre_morph_embeddings']) \n",
    "\n"
   ]
  },
  {
   "cell_type": "code",
   "execution_count": null,
   "id": "418421be",
   "metadata": {},
   "outputs": [],
   "source": [
    "\n",
    "\n"
   ]
  },
  {
   "cell_type": "code",
   "execution_count": 243,
   "id": "ea702882",
   "metadata": {},
   "outputs": [
    {
     "name": "stdout",
     "output_type": "stream",
     "text": [
      "<class 'pandas.core.frame.DataFrame'>\n",
      "Int64Index: 185832 entries, 0 to 185831\n",
      "Data columns (total 69 columns):\n",
      " #   Column                          Non-Null Count   Dtype  \n",
      "---  ------                          --------------   -----  \n",
      " 0   ID                              185832 non-null  int64  \n",
      " 1   axonal_coor_x                   185832 non-null  int64  \n",
      " 2   axonal_coor_y                   185832 non-null  int64  \n",
      " 3   axonal_coor_z                   185832 non-null  int64  \n",
      " 4   dendritic_coor_x                185832 non-null  int64  \n",
      " 5   dendritic_coor_y                185832 non-null  int64  \n",
      " 6   dendritic_coor_z                185832 non-null  int64  \n",
      " 7   adp_dist                        185832 non-null  float64\n",
      " 8   post_skeletal_distance_to_soma  185832 non-null  float64\n",
      " 9   pre_skeletal_distance_to_soma   185832 non-null  float64\n",
      " 10  pre_oracle                      185832 non-null  float64\n",
      " 11  pre_test_score                  185832 non-null  float64\n",
      " 12  pre_rf_x                        185832 non-null  float64\n",
      " 13  pre_rf_y                        185832 non-null  float64\n",
      " 14  post_oracle                     185832 non-null  float64\n",
      " 15  post_test_score                 185832 non-null  float64\n",
      " 16  post_rf_x                       185832 non-null  float64\n",
      " 17  post_rf_y                       185832 non-null  float64\n",
      " 18  compartment                     185832 non-null  int32  \n",
      " 19  pre_brain_area                  185832 non-null  int32  \n",
      " 20  post_brain_area                 185832 non-null  int32  \n",
      " 21  pre_nucleus_x                   185832 non-null  int64  \n",
      " 22  pre_nucleus_y                   185832 non-null  int64  \n",
      " 23  pre_nucleus_z                   185832 non-null  int64  \n",
      " 24  post_nucleus_x                  185832 non-null  int64  \n",
      " 25  post_nucleus_y                  185832 non-null  int64  \n",
      " 26  post_nucleus_z                  185832 non-null  int64  \n",
      " 27  pre_nucleus_id                  185832 non-null  int64  \n",
      " 28  post_nucleus_id                 185832 non-null  int64  \n",
      " 29  connected                       185832 non-null  bool   \n",
      " 30  pre_feature_weights             185832 non-null  object \n",
      " 31  post_feature_weights            185832 non-null  object \n",
      " 32  pre_morph_embeddings            185832 non-null  object \n",
      " 33  post_morph_embeddings           185832 non-null  object \n",
      " 34  euclidean_distance              185832 non-null  float64\n",
      " 35  axonal_distance_pre             185832 non-null  float64\n",
      " 36  axonal_distance_post            185832 non-null  float64\n",
      " 37  dendritic_distance_pre          185832 non-null  float64\n",
      " 38  dendritic_distance_post         185832 non-null  float64\n",
      " 39  euclidean_distance_pre          185832 non-null  float64\n",
      " 40  euclidean_distance_post         185832 non-null  float64\n",
      " 41  relative_position_x             185832 non-null  float64\n",
      " 42  relative_position_y             185832 non-null  float64\n",
      " 43  is_left                         185832 non-null  int32  \n",
      " 44  is_right                        185832 non-null  int32  \n",
      " 45  is_above                        185832 non-null  int32  \n",
      " 46  is_below                        185832 non-null  int32  \n",
      " 47  pre_rf_x_rf_y_interaction       185832 non-null  float64\n",
      " 48  post_rf_x_rf_y_interaction      185832 non-null  float64\n",
      " 49  pre_feature_weights_sum         185832 non-null  float64\n",
      " 50  post_feature_weights_sum        185832 non-null  float64\n",
      " 51  feature_weights_difference      185832 non-null  float64\n",
      " 52  pre_feature_weights_variance    185832 non-null  float64\n",
      " 53  post_feature_weights_variance   185832 non-null  float64\n",
      " 54  pre_feature_weights_skewness    185832 non-null  float64\n",
      " 55  post_feature_weights_skewness   185832 non-null  float64\n",
      " 56  pre_feature_weights_kurtosis    185832 non-null  float64\n",
      " 57  post_feature_weights_kurtosis   185832 non-null  float64\n",
      " 58  pre_morph_embeddings_sum        185832 non-null  float64\n",
      " 59  post_morph_embeddings_sum       185832 non-null  float64\n",
      " 60  morph_embeddings_distance       185832 non-null  float64\n",
      " 61  pre_morph_embeddings_variance   185832 non-null  float64\n",
      " 62  post_morph_embeddings_variance  185832 non-null  float64\n",
      " 63  pre_morph_embeddings_skewness   185832 non-null  float64\n",
      " 64  post_morph_embeddings_skewness  185832 non-null  float64\n",
      " 65  pre_morph_embeddings_kurtosis   185832 non-null  float64\n",
      " 66  post_morph_embeddings_kurtosis  185832 non-null  float64\n",
      " 67  fw_similarity                   185832 non-null  float64\n",
      " 68  projection_group                185832 non-null  object \n",
      "dtypes: bool(1), float64(41), int32(7), int64(15), object(5)\n",
      "memory usage: 97.1+ MB\n"
     ]
    }
   ],
   "source": [
    "data.info()"
   ]
  },
  {
   "cell_type": "markdown",
   "id": "b5e6c9ed",
   "metadata": {},
   "source": [
    "### Engineering the Morph Embeddings column"
   ]
  },
  {
   "cell_type": "code",
   "execution_count": null,
   "id": "aae94dd6",
   "metadata": {},
   "outputs": [],
   "source": [
    "\n",
    "\n"
   ]
  },
  {
   "cell_type": "code",
   "execution_count": null,
   "id": "7ace3aff",
   "metadata": {},
   "outputs": [],
   "source": [
    "\n"
   ]
  },
  {
   "cell_type": "code",
   "execution_count": 244,
   "id": "04c004ee",
   "metadata": {},
   "outputs": [
    {
     "name": "stdout",
     "output_type": "stream",
     "text": [
      "<class 'pandas.core.frame.DataFrame'>\n",
      "Int64Index: 185832 entries, 0 to 185831\n",
      "Data columns (total 69 columns):\n",
      " #   Column                          Non-Null Count   Dtype  \n",
      "---  ------                          --------------   -----  \n",
      " 0   ID                              185832 non-null  int64  \n",
      " 1   axonal_coor_x                   185832 non-null  int64  \n",
      " 2   axonal_coor_y                   185832 non-null  int64  \n",
      " 3   axonal_coor_z                   185832 non-null  int64  \n",
      " 4   dendritic_coor_x                185832 non-null  int64  \n",
      " 5   dendritic_coor_y                185832 non-null  int64  \n",
      " 6   dendritic_coor_z                185832 non-null  int64  \n",
      " 7   adp_dist                        185832 non-null  float64\n",
      " 8   post_skeletal_distance_to_soma  185832 non-null  float64\n",
      " 9   pre_skeletal_distance_to_soma   185832 non-null  float64\n",
      " 10  pre_oracle                      185832 non-null  float64\n",
      " 11  pre_test_score                  185832 non-null  float64\n",
      " 12  pre_rf_x                        185832 non-null  float64\n",
      " 13  pre_rf_y                        185832 non-null  float64\n",
      " 14  post_oracle                     185832 non-null  float64\n",
      " 15  post_test_score                 185832 non-null  float64\n",
      " 16  post_rf_x                       185832 non-null  float64\n",
      " 17  post_rf_y                       185832 non-null  float64\n",
      " 18  compartment                     185832 non-null  int32  \n",
      " 19  pre_brain_area                  185832 non-null  int32  \n",
      " 20  post_brain_area                 185832 non-null  int32  \n",
      " 21  pre_nucleus_x                   185832 non-null  int64  \n",
      " 22  pre_nucleus_y                   185832 non-null  int64  \n",
      " 23  pre_nucleus_z                   185832 non-null  int64  \n",
      " 24  post_nucleus_x                  185832 non-null  int64  \n",
      " 25  post_nucleus_y                  185832 non-null  int64  \n",
      " 26  post_nucleus_z                  185832 non-null  int64  \n",
      " 27  pre_nucleus_id                  185832 non-null  int64  \n",
      " 28  post_nucleus_id                 185832 non-null  int64  \n",
      " 29  connected                       185832 non-null  bool   \n",
      " 30  pre_feature_weights             185832 non-null  object \n",
      " 31  post_feature_weights            185832 non-null  object \n",
      " 32  pre_morph_embeddings            185832 non-null  object \n",
      " 33  post_morph_embeddings           185832 non-null  object \n",
      " 34  euclidean_distance              185832 non-null  float64\n",
      " 35  axonal_distance_pre             185832 non-null  float64\n",
      " 36  axonal_distance_post            185832 non-null  float64\n",
      " 37  dendritic_distance_pre          185832 non-null  float64\n",
      " 38  dendritic_distance_post         185832 non-null  float64\n",
      " 39  euclidean_distance_pre          185832 non-null  float64\n",
      " 40  euclidean_distance_post         185832 non-null  float64\n",
      " 41  relative_position_x             185832 non-null  float64\n",
      " 42  relative_position_y             185832 non-null  float64\n",
      " 43  is_left                         185832 non-null  int32  \n",
      " 44  is_right                        185832 non-null  int32  \n",
      " 45  is_above                        185832 non-null  int32  \n",
      " 46  is_below                        185832 non-null  int32  \n",
      " 47  pre_rf_x_rf_y_interaction       185832 non-null  float64\n",
      " 48  post_rf_x_rf_y_interaction      185832 non-null  float64\n",
      " 49  pre_feature_weights_sum         185832 non-null  float64\n",
      " 50  post_feature_weights_sum        185832 non-null  float64\n",
      " 51  feature_weights_difference      185832 non-null  float64\n",
      " 52  pre_feature_weights_variance    185832 non-null  float64\n",
      " 53  post_feature_weights_variance   185832 non-null  float64\n",
      " 54  pre_feature_weights_skewness    185832 non-null  float64\n",
      " 55  post_feature_weights_skewness   185832 non-null  float64\n",
      " 56  pre_feature_weights_kurtosis    185832 non-null  float64\n",
      " 57  post_feature_weights_kurtosis   185832 non-null  float64\n",
      " 58  pre_morph_embeddings_sum        185832 non-null  float64\n",
      " 59  post_morph_embeddings_sum       185832 non-null  float64\n",
      " 60  morph_embeddings_distance       185832 non-null  float64\n",
      " 61  pre_morph_embeddings_variance   185832 non-null  float64\n",
      " 62  post_morph_embeddings_variance  185832 non-null  float64\n",
      " 63  pre_morph_embeddings_skewness   185832 non-null  float64\n",
      " 64  post_morph_embeddings_skewness  185832 non-null  float64\n",
      " 65  pre_morph_embeddings_kurtosis   185832 non-null  float64\n",
      " 66  post_morph_embeddings_kurtosis  185832 non-null  float64\n",
      " 67  fw_similarity                   185832 non-null  float64\n",
      " 68  projection_group                185832 non-null  object \n",
      "dtypes: bool(1), float64(41), int32(7), int64(15), object(5)\n",
      "memory usage: 97.1+ MB\n"
     ]
    }
   ],
   "source": [
    "data.info()"
   ]
  },
  {
   "cell_type": "code",
   "execution_count": null,
   "id": "021b62da",
   "metadata": {},
   "outputs": [],
   "source": []
  },
  {
   "cell_type": "code",
   "execution_count": 245,
   "id": "01b10dd6",
   "metadata": {},
   "outputs": [
    {
     "data": {
      "image/png": "[encoded data removed]",
      "text/plain": [
       "<Figure size 640x480 with 1 Axes>"
      ]
     },
     "metadata": {},
     "output_type": "display_data"
    }
   ],
   "source": [
    "# Apply PCA to data\n",
    "from sklearn.preprocessing import StandardScaler\n",
    "from sklearn.decomposition import PCA\n",
    "\n",
    "# Exclude non-numeric and non-categorical columns from the PCA\n",
    "exclude_cols = ['ID', \n",
    "                'pre_feature_weights', \n",
    "                'post_feature_weights', \n",
    "                'pre_morph_embeddings', \n",
    "                'post_morph_embeddings', \n",
    "                'projection_group', \n",
    "                'connected',\n",
    "                'is_left',\n",
    "                'is_right',\n",
    "                'is_above',\n",
    "                'is_below'\n",
    "               ]\n",
    "\n",
    "# Select only numeric columns for PCA\n",
    "numeric_columns = [col for col in data.columns if col not in exclude_cols]\n",
    "\n",
    "# Standardize the data (if needed)\n",
    "scaler = StandardScaler()\n",
    "data[numeric_columns] = scaler.fit_transform(data[numeric_columns])\n",
    "\n",
    "# Create a PCA object (you can specify the number of components)\n",
    "pca = PCA(n_components=15)\n",
    "\n",
    "# Fit and transform the data\n",
    "pca_result = pca.fit_transform(data[numeric_columns])\n",
    "\n",
    "# # Create a DataFrame for visualization\n",
    "pca_df = pd.DataFrame(data=pca_result, columns=['1', '2','3','4','5','6','7','8','9','10','11','12','13','14','15'])\n",
    "\n",
    "# Visualize the PCA results\n",
    "plt.scatter(pca_df['1'], pca_df['15'])\n",
    "plt.title('PCA Visualization of Numeric Columns')\n",
    "plt.xlabel('Principal Component 1')\n",
    "plt.ylabel('Principal Component 2')\n",
    "plt.show()\n",
    "\n"
   ]
  },
  {
   "cell_type": "code",
   "execution_count": 246,
   "id": "b1c9b747",
   "metadata": {},
   "outputs": [
    {
     "name": "stdout",
     "output_type": "stream",
     "text": [
      "<class 'pandas.core.frame.DataFrame'>\n",
      "Int64Index: 185832 entries, 0 to 185831\n",
      "Data columns (total 69 columns):\n",
      " #   Column                          Non-Null Count   Dtype  \n",
      "---  ------                          --------------   -----  \n",
      " 0   ID                              185832 non-null  int64  \n",
      " 1   axonal_coor_x                   185832 non-null  float64\n",
      " 2   axonal_coor_y                   185832 non-null  float64\n",
      " 3   axonal_coor_z                   185832 non-null  float64\n",
      " 4   dendritic_coor_x                185832 non-null  float64\n",
      " 5   dendritic_coor_y                185832 non-null  float64\n",
      " 6   dendritic_coor_z                185832 non-null  float64\n",
      " 7   adp_dist                        185832 non-null  float64\n",
      " 8   post_skeletal_distance_to_soma  185832 non-null  float64\n",
      " 9   pre_skeletal_distance_to_soma   185832 non-null  float64\n",
      " 10  pre_oracle                      185832 non-null  float64\n",
      " 11  pre_test_score                  185832 non-null  float64\n",
      " 12  pre_rf_x                        185832 non-null  float64\n",
      " 13  pre_rf_y                        185832 non-null  float64\n",
      " 14  post_oracle                     185832 non-null  float64\n",
      " 15  post_test_score                 185832 non-null  float64\n",
      " 16  post_rf_x                       185832 non-null  float64\n",
      " 17  post_rf_y                       185832 non-null  float64\n",
      " 18  compartment                     185832 non-null  float64\n",
      " 19  pre_brain_area                  185832 non-null  float64\n",
      " 20  post_brain_area                 185832 non-null  float64\n",
      " 21  pre_nucleus_x                   185832 non-null  float64\n",
      " 22  pre_nucleus_y                   185832 non-null  float64\n",
      " 23  pre_nucleus_z                   185832 non-null  float64\n",
      " 24  post_nucleus_x                  185832 non-null  float64\n",
      " 25  post_nucleus_y                  185832 non-null  float64\n",
      " 26  post_nucleus_z                  185832 non-null  float64\n",
      " 27  pre_nucleus_id                  185832 non-null  float64\n",
      " 28  post_nucleus_id                 185832 non-null  float64\n",
      " 29  connected                       185832 non-null  bool   \n",
      " 30  pre_feature_weights             185832 non-null  object \n",
      " 31  post_feature_weights            185832 non-null  object \n",
      " 32  pre_morph_embeddings            185832 non-null  object \n",
      " 33  post_morph_embeddings           185832 non-null  object \n",
      " 34  euclidean_distance              185832 non-null  float64\n",
      " 35  axonal_distance_pre             185832 non-null  float64\n",
      " 36  axonal_distance_post            185832 non-null  float64\n",
      " 37  dendritic_distance_pre          185832 non-null  float64\n",
      " 38  dendritic_distance_post         185832 non-null  float64\n",
      " 39  euclidean_distance_pre          185832 non-null  float64\n",
      " 40  euclidean_distance_post         185832 non-null  float64\n",
      " 41  relative_position_x             185832 non-null  float64\n",
      " 42  relative_position_y             185832 non-null  float64\n",
      " 43  is_left                         185832 non-null  int32  \n",
      " 44  is_right                        185832 non-null  int32  \n",
      " 45  is_above                        185832 non-null  int32  \n",
      " 46  is_below                        185832 non-null  int32  \n",
      " 47  pre_rf_x_rf_y_interaction       185832 non-null  float64\n",
      " 48  post_rf_x_rf_y_interaction      185832 non-null  float64\n",
      " 49  pre_feature_weights_sum         185832 non-null  float64\n",
      " 50  post_feature_weights_sum        185832 non-null  float64\n",
      " 51  feature_weights_difference      185832 non-null  float64\n",
      " 52  pre_feature_weights_variance    185832 non-null  float64\n",
      " 53  post_feature_weights_variance   185832 non-null  float64\n",
      " 54  pre_feature_weights_skewness    185832 non-null  float64\n",
      " 55  post_feature_weights_skewness   185832 non-null  float64\n",
      " 56  pre_feature_weights_kurtosis    185832 non-null  float64\n",
      " 57  post_feature_weights_kurtosis   185832 non-null  float64\n",
      " 58  pre_morph_embeddings_sum        185832 non-null  float64\n",
      " 59  post_morph_embeddings_sum       185832 non-null  float64\n",
      " 60  morph_embeddings_distance       185832 non-null  float64\n",
      " 61  pre_morph_embeddings_variance   185832 non-null  float64\n",
      " 62  post_morph_embeddings_variance  185832 non-null  float64\n",
      " 63  pre_morph_embeddings_skewness   185832 non-null  float64\n",
      " 64  post_morph_embeddings_skewness  185832 non-null  float64\n",
      " 65  pre_morph_embeddings_kurtosis   185832 non-null  float64\n",
      " 66  post_morph_embeddings_kurtosis  185832 non-null  float64\n",
      " 67  fw_similarity                   185832 non-null  float64\n",
      " 68  projection_group                185832 non-null  object \n",
      "dtypes: bool(1), float64(58), int32(4), int64(1), object(5)\n",
      "memory usage: 99.2+ MB\n"
     ]
    }
   ],
   "source": [
    "data.info()"
   ]
  },
  {
   "cell_type": "markdown",
   "id": "937655df",
   "metadata": {},
   "source": [
    "Now that we have shown some features are associated with neuron connectivity, we fit a simple calssification model: Logistic Regression."
   ]
  },
  {
   "cell_type": "code",
   "execution_count": 251,
   "id": "54850f42",
   "metadata": {},
   "outputs": [
    {
     "name": "stdout",
     "output_type": "stream",
     "text": [
      "accuracy: 0.9927085855732236\n"
     ]
    }
   ],
   "source": [
    "# logistic regression model (connected ~ fw_similarity + adp)\n",
    "from sklearn.linear_model import LogisticRegression\n",
    "from sklearn.metrics import balanced_accuracy_score, accuracy_score, confusion_matrix\n",
    "from sklearn.model_selection import train_test_split\n",
    "from sklearn.preprocessing import StandardScaler\n",
    "from sklearn.pipeline import Pipeline\n",
    "from imblearn.over_sampling import RandomOverSampler\n",
    "from imblearn.over_sampling import SMOTE\n",
    "from sklearn.model_selection import RepeatedStratifiedKFold\n",
    "from sklearn.ensemble import RandomForestClassifier\n",
    "from sklearn.svm import SVC\n",
    "from sklearn.naive_bayes import GaussianNB\n",
    "from sklearn.discriminant_analysis import LinearDiscriminantAnalysis\n",
    "\n",
    "np.random_seed=0\n",
    "# split into a train and test set \n",
    "#(Even though we're working with the competition training set, you may want to have your own internal train and test sets.)\n",
    "train_data, test_data = train_test_split(data, test_size=0.2, random_state=1)\n",
    "\n",
    "# # create pipeline - Random Forest\n",
    "# pipe = Pipeline(\n",
    "#     [(\"scaler\", StandardScaler()), (\"model\", RandomForestClassifier(n_estimators=100, \n",
    "#                                                                     max_depth=None, \n",
    "#                                                                     min_samples_leaf=1, \n",
    "#                                                                     class_weight='balanced',\n",
    "#                                                                     bootstrap=True,\n",
    "#                                                                     random_state=42))]\n",
    "# )\n",
    "\n",
    "# # create pipeline\n",
    "# pipe = Pipeline(\n",
    "#     [(\"scaler\", StandardScaler()), (\"model\", LogisticRegression(random_state=42,\n",
    "#                                                                C= 10,\n",
    "#                                                                penalty =\"l1\",\n",
    "#                                                                class_weight=\"balanced\",\n",
    "#                                                                solver=\"liblinear\"))]\n",
    "# )\n",
    "\n",
    "# # create pipeline\n",
    "# pipe = Pipeline(\n",
    "#     [(\"scaler\", StandardScaler()), (\"model\", SVC(kernel= \"linear\", probability=True, class_weight='balanced', random_state=2))]\n",
    "# )\n",
    "\n",
    "# create pipeline\n",
    "pipe = Pipeline(\n",
    "    [(\"scaler\", StandardScaler()), (\"model\", LinearDiscriminantAnalysis(solver=\"eigen\", shrinkage=0.00001))]\n",
    ")\n",
    "# creating train data\n",
    "X_train = train_data[[\"fw_similarity\", \n",
    "                      \"adp_dist\",  \n",
    "                      \"post_skeletal_distance_to_soma\",\n",
    "                      \"pre_skeletal_distance_to_soma\",\n",
    "                      \"pre_oracle\",\n",
    "                      \"post_oracle\",\n",
    "                      \"pre_test_score\",\n",
    "                      \"post_test_score\",\n",
    "                      \"compartment\",\n",
    "                      \"pre_brain_area\",\n",
    "                      \"post_brain_area\",\n",
    "                      \"euclidean_distance\",\n",
    "                      \"axonal_distance_pre\",\n",
    "                      \"axonal_distance_post\",\n",
    "                      \"dendritic_distance_pre\",\n",
    "                      \"dendritic_distance_post\",\n",
    "                      \"euclidean_distance_pre\",\n",
    "                      \"euclidean_distance_post\",\n",
    "                      \"relative_position_x\",\n",
    "                      \"relative_position_y\",\n",
    "                      \"is_left\",\n",
    "                      \"is_right\",\n",
    "                      \"is_above\",\n",
    "                      \"is_below\",\n",
    "                      \"pre_rf_x_rf_y_interaction\",\n",
    "                      \"post_rf_x_rf_y_interaction\",\n",
    "                      \"feature_weights_difference\",\n",
    "                      \"morph_embeddings_distance\"\n",
    "                      \n",
    "                      \n",
    "                      \n",
    "                      \n",
    "                      \n",
    "                      \n",
    "                                    \n",
    "                      \n",
    "                      \n",
    "                      \n",
    "                      \n",
    "                     ]]\n",
    "\n",
    "y_train = train_data[\"connected\"]\n",
    "\n",
    "X_test = test_data[[  \"fw_similarity\", \n",
    "                      \"adp_dist\",  \n",
    "                      \"post_skeletal_distance_to_soma\",\n",
    "                      \"pre_skeletal_distance_to_soma\",\n",
    "                      \"pre_oracle\",\n",
    "                      \"post_oracle\",\n",
    "                      \"pre_test_score\",\n",
    "                      \"post_test_score\",\n",
    "                      \"compartment\",\n",
    "                      \"pre_brain_area\",\n",
    "                      \"post_brain_area\",\n",
    "                      \"euclidean_distance\",\n",
    "                      \"axonal_distance_pre\",\n",
    "                      \"axonal_distance_post\",\n",
    "                      \"dendritic_distance_pre\",\n",
    "                      \"dendritic_distance_post\",\n",
    "                      \"euclidean_distance_pre\",\n",
    "                      \"euclidean_distance_post\",\n",
    "                      \"relative_position_x\",\n",
    "                      \"relative_position_y\",\n",
    "                      \"is_left\",\n",
    "                      \"is_right\",\n",
    "                      \"is_above\",\n",
    "                      \"is_below\",\n",
    "                      \"pre_rf_x_rf_y_interaction\",\n",
    "                      \"post_rf_x_rf_y_interaction\",\n",
    "                      \"feature_weights_difference\",\n",
    "                      \"morph_embeddings_distance\"\n",
    "                   \n",
    "                    \n",
    "                      \n",
    "                   \n",
    "                   \n",
    "                   ]]\n",
    "\n",
    "y_test = test_data['connected']\n",
    "# fit model\n",
    "pipe.fit(X_train, y_train)\n",
    "\n",
    "# predict on test data\n",
    "y_preds = pipe.predict_proba(X_test)[:, 1]\n",
    "\n",
    "# compute accuracy\n",
    "print(f\"accuracy: {accuracy_score(y_test, y_preds > .5)}\")\n"
   ]
  },
  {
   "cell_type": "markdown",
   "id": "ec2397d5",
   "metadata": {},
   "source": []
  },
  {
   "cell_type": "code",
   "execution_count": 99,
   "id": "2b351fdd",
   "metadata": {},
   "outputs": [
    {
     "data": {
      "text/plain": [
       "array([[36896,     0],\n",
       "       [  271,     0]], dtype=int64)"
      ]
     },
     "execution_count": 99,
     "metadata": {},
     "output_type": "execute_result"
    }
   ],
   "source": [
    "confusion_matrix(y_test, y_preds > .5)"
   ]
  },
  {
   "cell_type": "markdown",
   "id": "e4faf555",
   "metadata": {},
   "source": [
    "The model always predicts not connected!  We need a new evaluation metric."
   ]
  },
  {
   "cell_type": "markdown",
   "id": "5157b7fb",
   "metadata": {},
   "source": [
    "### Balanced Accuracy Metric"
   ]
  },
  {
   "cell_type": "markdown",
   "id": "b83390f1",
   "metadata": {},
   "source": [
    "Sensitivity = True Positive Rate = True Positive / (True Positive + False Negative)\n",
    "Specificity = True Negative Rate = True Negative / (True Negative + False Positive)\n",
    "\n",
    "Balanced Accuracy = (Sensitivity + Specificity)/2"
   ]
  },
  {
   "cell_type": "code",
   "execution_count": 100,
   "id": "2481e7b8",
   "metadata": {},
   "outputs": [
    {
     "name": "stdout",
     "output_type": "stream",
     "text": [
      "balanced accuracy: 0.5\n"
     ]
    }
   ],
   "source": [
    "print(\n",
    "    f\"balanced accuracy: {balanced_accuracy_score(y_test, y_preds > .5)}\"\n",
    ")"
   ]
  },
  {
   "cell_type": "code",
   "execution_count": 101,
   "id": "59821e4a",
   "metadata": {},
   "outputs": [
    {
     "name": "stdout",
     "output_type": "stream",
     "text": [
      "<class 'pandas.core.frame.DataFrame'>\n",
      "Int64Index: 185832 entries, 0 to 185831\n",
      "Data columns (total 51 columns):\n",
      " #   Column                          Non-Null Count   Dtype  \n",
      "---  ------                          --------------   -----  \n",
      " 0   ID                              185832 non-null  int64  \n",
      " 1   axonal_coor_x                   185832 non-null  float64\n",
      " 2   axonal_coor_y                   185832 non-null  float64\n",
      " 3   axonal_coor_z                   185832 non-null  float64\n",
      " 4   dendritic_coor_x                185832 non-null  float64\n",
      " 5   dendritic_coor_y                185832 non-null  float64\n",
      " 6   dendritic_coor_z                185832 non-null  float64\n",
      " 7   adp_dist                        185832 non-null  float64\n",
      " 8   post_skeletal_distance_to_soma  185832 non-null  float64\n",
      " 9   pre_skeletal_distance_to_soma   185832 non-null  float64\n",
      " 10  pre_oracle                      185832 non-null  float64\n",
      " 11  pre_test_score                  185832 non-null  float64\n",
      " 12  pre_rf_x                        185832 non-null  float64\n",
      " 13  pre_rf_y                        185832 non-null  float64\n",
      " 14  post_oracle                     185832 non-null  float64\n",
      " 15  post_test_score                 185832 non-null  float64\n",
      " 16  post_rf_x                       185832 non-null  float64\n",
      " 17  post_rf_y                       185832 non-null  float64\n",
      " 18  compartment                     185832 non-null  float64\n",
      " 19  pre_brain_area                  185832 non-null  float64\n",
      " 20  post_brain_area                 185832 non-null  float64\n",
      " 21  pre_nucleus_x                   185832 non-null  float64\n",
      " 22  pre_nucleus_y                   185832 non-null  float64\n",
      " 23  pre_nucleus_z                   185832 non-null  float64\n",
      " 24  post_nucleus_x                  185832 non-null  float64\n",
      " 25  post_nucleus_y                  185832 non-null  float64\n",
      " 26  post_nucleus_z                  185832 non-null  float64\n",
      " 27  pre_nucleus_id                  185832 non-null  float64\n",
      " 28  post_nucleus_id                 185832 non-null  float64\n",
      " 29  connected                       185832 non-null  bool   \n",
      " 30  pre_feature_weights             185832 non-null  object \n",
      " 31  post_feature_weights            185832 non-null  object \n",
      " 32  pre_morph_embeddings            185832 non-null  object \n",
      " 33  post_morph_embeddings           185832 non-null  object \n",
      " 34  euclidean_distance              185832 non-null  float64\n",
      " 35  axonal_distance_pre             185832 non-null  float64\n",
      " 36  axonal_distance_post            185832 non-null  float64\n",
      " 37  dendritic_distance_pre          185832 non-null  float64\n",
      " 38  dendritic_distance_post         185832 non-null  float64\n",
      " 39  euclidean_distance_pre          185832 non-null  float64\n",
      " 40  euclidean_distance_post         185832 non-null  float64\n",
      " 41  relative_position_x             185832 non-null  float64\n",
      " 42  relative_position_y             185832 non-null  float64\n",
      " 43  is_left                         185832 non-null  int32  \n",
      " 44  is_right                        185832 non-null  int32  \n",
      " 45  is_above                        185832 non-null  int32  \n",
      " 46  is_below                        185832 non-null  int32  \n",
      " 47  pre_rf_x_rf_y_interaction       185832 non-null  float64\n",
      " 48  post_rf_x_rf_y_interaction      185832 non-null  float64\n",
      " 49  fw_similarity                   185832 non-null  float64\n",
      " 50  projection_group                185832 non-null  object \n",
      "dtypes: bool(1), float64(40), int32(4), int64(1), object(5)\n",
      "memory usage: 73.7+ MB\n"
     ]
    }
   ],
   "source": [
    "data.info()\n"
   ]
  },
  {
   "cell_type": "code",
   "execution_count": null,
   "id": "deec319d",
   "metadata": {},
   "outputs": [],
   "source": []
  },
  {
   "cell_type": "markdown",
   "id": "5947b122",
   "metadata": {},
   "source": [
    "## Data Augmentation for Unbalanced Classification"
   ]
  },
  {
   "cell_type": "markdown",
   "id": "5b4b933c",
   "metadata": {},
   "source": [
    "As our simple model always predicts not connected, we need to use some technique that balances the two classes.  While there are many strategies one can employ, we demostrate a simple random over sampling strategy that uses the bootstrap to augment the data for the minority ('connected') class.  "
   ]
  },
  {
   "cell_type": "code",
   "execution_count": 252,
   "id": "b45c9e7e",
   "metadata": {},
   "outputs": [
    {
     "name": "stdout",
     "output_type": "stream",
     "text": [
      "accuracy: 0.6610703043022036\n",
      "[[24344 12552]\n",
      " [   45   226]]\n",
      "balanced accuracy: 0.7468744299325041\n"
     ]
    }
   ],
   "source": [
    "\n",
    "from imblearn.over_sampling import RandomOverSampler\n",
    "\n",
    "\n",
    "# oversample connected neuron pairs\n",
    "ros = RandomOverSampler(random_state=0)\n",
    "X_resampled, y_resampled = ros.fit_resample(\n",
    "    X_train, y_train\n",
    ")\n",
    "\n",
    "# fit model\n",
    "pipe.fit(X_resampled, y_resampled)\n",
    "\n",
    "# predict on test data\n",
    "y_preds = pipe.predict_proba(X_test)[:, 1]\n",
    "\n",
    "# compute accuracy\n",
    "print(f\"accuracy: {accuracy_score(y_test, y_preds > .5)}\")\n",
    "\n",
    "# confusion matrix\n",
    "print(confusion_matrix(y_test, y_preds > .5))\n",
    "\n",
    "# compute balanced accuracy\n",
    "print(\n",
    "    f\"balanced accuracy: {balanced_accuracy_score(y_test, y_preds > .5)}\"\n",
    ")"
   ]
  },
  {
   "cell_type": "markdown",
   "id": "94328c0a",
   "metadata": {},
   "source": [
    "### Hyperparameter tuning"
   ]
  },
  {
   "cell_type": "code",
   "execution_count": 103,
   "id": "88a7cb72",
   "metadata": {},
   "outputs": [],
   "source": [
    "# #Logistic Regression tuning\n",
    "# from sklearn.model_selection import RandomizedSearchCV, GridSearchCV, StratifiedKFold\n",
    "# from scipy.stats import uniform, randint\n",
    "\n",
    "# # # Create a hyperparameter grid for RandomForestClassifier\n",
    "# # param_dist = {\"n_estimators\": np.arange(100, 1000, 10),\n",
    "# #             'max_depth': [None, 10, 20, 30, 40],\n",
    "# #             'min_samples_split': [2, 5, 10],\n",
    "# #             'min_samples_leaf': [1, 2, 4],\n",
    "# #             'max_features': ['sqrt', 'log2', 0.2, 0.5],\n",
    "# #             'class_weight': ['balanced'],\n",
    "# #             'bootstrap': [True],\n",
    "# #             'criterion': ['gini', 'entropy']\n",
    "# #           }\n",
    "\n",
    "# param_dist = {\n",
    "#    \"C\": np.linspace(0.001, 4,1000),\n",
    "#     'penalty': ['l1','l2'],\n",
    "#     'class_weight': ['balanced'],\n",
    "#     'solver': ['liblinear']\n",
    "    \n",
    "# }\n",
    "# #setup random seed\n",
    "# np.random.seed(42)\n",
    "\n",
    "\n",
    "\n",
    "# # Create a StratifiedKFold object for stratified K-fold cross-validation\n",
    "# stratified_kfold = StratifiedKFold(n_splits=5, shuffle=True, random_state=42)\n",
    "\n",
    "# # #setup random hyperparameter search for LogisticRegression\n",
    "# # rs_rf = RandomizedSearchCV(RandomForestClassifier(),\n",
    "# #                                  param_distributions=param_dist,\n",
    "# #                                  cv=stratified_kfold,\n",
    "# #                                  n_iter=2,\n",
    "# #                                  n_jobs=-1,\n",
    "# #                                  verbose=True)\n",
    "\n",
    "# #setup random hyperparameter search for LogisticRegression\n",
    "# rs_lr = RandomizedSearchCV(LogisticRegression(),\n",
    "#                                  param_distributions=param_dist,\n",
    "#                                  cv=stratified_kfold,\n",
    "#                                  n_iter=100,\n",
    "                           \n",
    "#                                  verbose=True)\n",
    "\n",
    "# #Split data again\n",
    "# # train_data, test_data = train_test_split(data, test_size=0.1, random_state=1)\n",
    "\n",
    "# # Fit random hyperparameter search model for LogisticRegression()\n",
    "# rs_rf.fit(X_resampled, y_resampled )"
   ]
  },
  {
   "cell_type": "code",
   "execution_count": 104,
   "id": "f776b129",
   "metadata": {
    "scrolled": true
   },
   "outputs": [],
   "source": [
    "# # Find the best hyperparameters\n",
    "\n",
    "# best_params = rs_rf.best_params_\n",
    "# rs_rf.best_params_"
   ]
  },
  {
   "cell_type": "code",
   "execution_count": 105,
   "id": "a2ddcc4a",
   "metadata": {
    "scrolled": true
   },
   "outputs": [],
   "source": [
    "# # Fit it with the best params\n",
    "# best_model = RandomForestClassifier(**best_params)\n",
    "# best_model.fit(X_resampled, y_resampled)"
   ]
  },
  {
   "cell_type": "code",
   "execution_count": 106,
   "id": "72c66b72",
   "metadata": {},
   "outputs": [],
   "source": [
    "\n",
    "# # predict on test data\n",
    "# y_preds = best_model.predict_proba(X_test)[:, 1]"
   ]
  },
  {
   "cell_type": "code",
   "execution_count": 107,
   "id": "2d54af7d",
   "metadata": {},
   "outputs": [],
   "source": [
    "\n",
    "# # compute accuracy\n",
    "# print(f\"accuracy: {accuracy_score(y_test, y_preds > .5)}\")\n",
    "\n",
    "# # confusion matrix\n",
    "# print(confusion_matrix(y_test, y_preds > .5))\n",
    "\n",
    "# # compute balanced accuracy\n",
    "# print(\n",
    "#     f\"balanced accuracy: {balanced_accuracy_score(y_test, y_preds > .5)}\"\n",
    "# )"
   ]
  },
  {
   "cell_type": "markdown",
   "id": "48d1a156",
   "metadata": {},
   "source": [
    "Simple data augmentation improves our balanced accuracy dramatically!"
   ]
  },
  {
   "cell_type": "markdown",
   "id": "bb82ab85",
   "metadata": {},
   "source": [
    "# Create Example Prediction File for Leaderboard Submission"
   ]
  },
  {
   "cell_type": "markdown",
   "id": "0d12af71",
   "metadata": {},
   "source": [
    "### Load and Merge Leaderboard Data"
   ]
  },
  {
   "cell_type": "code",
   "execution_count": 108,
   "id": "a8bdc8d8",
   "metadata": {},
   "outputs": [],
   "source": [
    "#we need to first load and merge the leaderboard data to have the same format as the training set\n",
    "lb_data = pd.read_csv(\"./leaderboard_data.csv\")"
   ]
  },
  {
   "cell_type": "code",
   "execution_count": 109,
   "id": "4d0b97fd",
   "metadata": {},
   "outputs": [],
   "source": [
    "lb_data = (\n",
    "    lb_data.merge(\n",
    "        feature_weights.rename(columns=lambda x: \"pre_\" + x), \n",
    "        how=\"left\", \n",
    "        validate=\"m:1\",\n",
    "        copy=False,\n",
    "    )\n",
    "    .merge(\n",
    "        feature_weights.rename(columns=lambda x: \"post_\" + x),\n",
    "        how=\"left\",\n",
    "        validate=\"m:1\",\n",
    "        copy=False,\n",
    "    )\n",
    "    .merge(\n",
    "        morph_embeddings.rename(columns=lambda x: \"pre_\" + x),\n",
    "        how=\"left\",\n",
    "        validate=\"m:1\",\n",
    "        copy=False,\n",
    "    )\n",
    "    .merge(\n",
    "        morph_embeddings.rename(columns=lambda x: \"post_\" + x),\n",
    "        how=\"left\",\n",
    "        validate=\"m:1\",\n",
    "        copy=False,\n",
    "    )\n",
    ")"
   ]
  },
  {
   "cell_type": "code",
   "execution_count": 110,
   "id": "4074a460",
   "metadata": {},
   "outputs": [
    {
     "name": "stdout",
     "output_type": "stream",
     "text": [
      "<class 'pandas.core.frame.DataFrame'>\n",
      "Int64Index: 42593 entries, 0 to 42592\n",
      "Data columns (total 33 columns):\n",
      " #   Column                          Non-Null Count  Dtype  \n",
      "---  ------                          --------------  -----  \n",
      " 0   ID                              42593 non-null  int64  \n",
      " 1   axonal_coor_x                   42593 non-null  int64  \n",
      " 2   axonal_coor_y                   42593 non-null  int64  \n",
      " 3   axonal_coor_z                   42593 non-null  int64  \n",
      " 4   dendritic_coor_x                42593 non-null  int64  \n",
      " 5   dendritic_coor_y                42593 non-null  int64  \n",
      " 6   dendritic_coor_z                42593 non-null  int64  \n",
      " 7   adp_dist                        42593 non-null  float64\n",
      " 8   post_skeletal_distance_to_soma  42593 non-null  float64\n",
      " 9   pre_skeletal_distance_to_soma   42593 non-null  float64\n",
      " 10  pre_oracle                      42593 non-null  float64\n",
      " 11  pre_test_score                  42593 non-null  float64\n",
      " 12  pre_rf_x                        42593 non-null  float64\n",
      " 13  pre_rf_y                        42593 non-null  float64\n",
      " 14  post_oracle                     42593 non-null  float64\n",
      " 15  post_test_score                 42593 non-null  float64\n",
      " 16  post_rf_x                       42593 non-null  float64\n",
      " 17  post_rf_y                       42593 non-null  float64\n",
      " 18  compartment                     42593 non-null  object \n",
      " 19  pre_brain_area                  42593 non-null  object \n",
      " 20  post_brain_area                 42593 non-null  object \n",
      " 21  pre_nucleus_x                   42593 non-null  int64  \n",
      " 22  pre_nucleus_y                   42593 non-null  int64  \n",
      " 23  pre_nucleus_z                   42593 non-null  int64  \n",
      " 24  post_nucleus_x                  42593 non-null  int64  \n",
      " 25  post_nucleus_y                  42593 non-null  int64  \n",
      " 26  post_nucleus_z                  42593 non-null  int64  \n",
      " 27  pre_nucleus_id                  42593 non-null  int64  \n",
      " 28  post_nucleus_id                 42593 non-null  int64  \n",
      " 29  pre_feature_weights             42593 non-null  object \n",
      " 30  post_feature_weights            42593 non-null  object \n",
      " 31  pre_morph_embeddings            33275 non-null  object \n",
      " 32  post_morph_embeddings           42593 non-null  object \n",
      "dtypes: float64(11), int64(15), object(7)\n",
      "memory usage: 11.0+ MB\n"
     ]
    }
   ],
   "source": [
    "lb_data.info()"
   ]
  },
  {
   "cell_type": "code",
   "execution_count": null,
   "id": "88c1fc8f",
   "metadata": {},
   "outputs": [],
   "source": []
  },
  {
   "cell_type": "markdown",
   "id": "6b6d054a",
   "metadata": {},
   "source": [
    "### Example Prediction: Simple Logistic Regression"
   ]
  },
  {
   "cell_type": "code",
   "execution_count": null,
   "id": "41bb97a3",
   "metadata": {},
   "outputs": [],
   "source": []
  },
  {
   "cell_type": "markdown",
   "id": "cc2467bc",
   "metadata": {},
   "source": [
    "Now we fit a our logistic regression model on the full training data and use it to make predictions on the leaderboard data. But first, we need to add in our new engineered feature on neural tuning similarity.  "
   ]
  },
  {
   "cell_type": "code",
   "execution_count": null,
   "id": "089e47f4",
   "metadata": {},
   "outputs": [],
   "source": []
  },
  {
   "cell_type": "markdown",
   "id": "df6f9d34",
   "metadata": {},
   "source": [
    "#### Fill in the missing values\n"
   ]
  },
  {
   "cell_type": "code",
   "execution_count": 111,
   "id": "c6f9e1ba",
   "metadata": {},
   "outputs": [
    {
     "name": "stdout",
     "output_type": "stream",
     "text": [
      "<class 'pandas.core.frame.DataFrame'>\n",
      "Int64Index: 42593 entries, 0 to 42592\n",
      "Data columns (total 33 columns):\n",
      " #   Column                          Non-Null Count  Dtype  \n",
      "---  ------                          --------------  -----  \n",
      " 0   ID                              42593 non-null  int64  \n",
      " 1   axonal_coor_x                   42593 non-null  int64  \n",
      " 2   axonal_coor_y                   42593 non-null  int64  \n",
      " 3   axonal_coor_z                   42593 non-null  int64  \n",
      " 4   dendritic_coor_x                42593 non-null  int64  \n",
      " 5   dendritic_coor_y                42593 non-null  int64  \n",
      " 6   dendritic_coor_z                42593 non-null  int64  \n",
      " 7   adp_dist                        42593 non-null  float64\n",
      " 8   post_skeletal_distance_to_soma  42593 non-null  float64\n",
      " 9   pre_skeletal_distance_to_soma   42593 non-null  float64\n",
      " 10  pre_oracle                      42593 non-null  float64\n",
      " 11  pre_test_score                  42593 non-null  float64\n",
      " 12  pre_rf_x                        42593 non-null  float64\n",
      " 13  pre_rf_y                        42593 non-null  float64\n",
      " 14  post_oracle                     42593 non-null  float64\n",
      " 15  post_test_score                 42593 non-null  float64\n",
      " 16  post_rf_x                       42593 non-null  float64\n",
      " 17  post_rf_y                       42593 non-null  float64\n",
      " 18  compartment                     42593 non-null  object \n",
      " 19  pre_brain_area                  42593 non-null  object \n",
      " 20  post_brain_area                 42593 non-null  object \n",
      " 21  pre_nucleus_x                   42593 non-null  int64  \n",
      " 22  pre_nucleus_y                   42593 non-null  int64  \n",
      " 23  pre_nucleus_z                   42593 non-null  int64  \n",
      " 24  post_nucleus_x                  42593 non-null  int64  \n",
      " 25  post_nucleus_y                  42593 non-null  int64  \n",
      " 26  post_nucleus_z                  42593 non-null  int64  \n",
      " 27  pre_nucleus_id                  42593 non-null  int64  \n",
      " 28  post_nucleus_id                 42593 non-null  int64  \n",
      " 29  pre_feature_weights             42593 non-null  object \n",
      " 30  post_feature_weights            42593 non-null  object \n",
      " 31  pre_morph_embeddings            42593 non-null  object \n",
      " 32  post_morph_embeddings           42593 non-null  object \n",
      "dtypes: float64(11), int64(15), object(7)\n",
      "memory usage: 11.0+ MB\n"
     ]
    }
   ],
   "source": [
    "\n",
    "column_to_impute = 'pre_morph_embeddings'\n",
    "\n",
    "lb_data[column_to_impute].fillna(0, inplace=True)\n",
    "\n",
    "lb_data.info()\n"
   ]
  },
  {
   "cell_type": "code",
   "execution_count": null,
   "id": "aea12746",
   "metadata": {},
   "outputs": [],
   "source": []
  },
  {
   "cell_type": "code",
   "execution_count": 112,
   "id": "bd350a61",
   "metadata": {},
   "outputs": [
    {
     "name": "stdout",
     "output_type": "stream",
     "text": [
      "<class 'pandas.core.frame.DataFrame'>\n",
      "Int64Index: 42593 entries, 0 to 42592\n",
      "Data columns (total 33 columns):\n",
      " #   Column                          Non-Null Count  Dtype  \n",
      "---  ------                          --------------  -----  \n",
      " 0   ID                              42593 non-null  int64  \n",
      " 1   axonal_coor_x                   42593 non-null  int64  \n",
      " 2   axonal_coor_y                   42593 non-null  int64  \n",
      " 3   axonal_coor_z                   42593 non-null  int64  \n",
      " 4   dendritic_coor_x                42593 non-null  int64  \n",
      " 5   dendritic_coor_y                42593 non-null  int64  \n",
      " 6   dendritic_coor_z                42593 non-null  int64  \n",
      " 7   adp_dist                        42593 non-null  float64\n",
      " 8   post_skeletal_distance_to_soma  42593 non-null  float64\n",
      " 9   pre_skeletal_distance_to_soma   42593 non-null  float64\n",
      " 10  pre_oracle                      42593 non-null  float64\n",
      " 11  pre_test_score                  42593 non-null  float64\n",
      " 12  pre_rf_x                        42593 non-null  float64\n",
      " 13  pre_rf_y                        42593 non-null  float64\n",
      " 14  post_oracle                     42593 non-null  float64\n",
      " 15  post_test_score                 42593 non-null  float64\n",
      " 16  post_rf_x                       42593 non-null  float64\n",
      " 17  post_rf_y                       42593 non-null  float64\n",
      " 18  compartment                     42593 non-null  int32  \n",
      " 19  pre_brain_area                  42593 non-null  int32  \n",
      " 20  post_brain_area                 42593 non-null  int32  \n",
      " 21  pre_nucleus_x                   42593 non-null  int64  \n",
      " 22  pre_nucleus_y                   42593 non-null  int64  \n",
      " 23  pre_nucleus_z                   42593 non-null  int64  \n",
      " 24  post_nucleus_x                  42593 non-null  int64  \n",
      " 25  post_nucleus_y                  42593 non-null  int64  \n",
      " 26  post_nucleus_z                  42593 non-null  int64  \n",
      " 27  pre_nucleus_id                  42593 non-null  int64  \n",
      " 28  post_nucleus_id                 42593 non-null  int64  \n",
      " 29  pre_feature_weights             42593 non-null  object \n",
      " 30  post_feature_weights            42593 non-null  object \n",
      " 31  pre_morph_embeddings            42593 non-null  object \n",
      " 32  post_morph_embeddings           42593 non-null  object \n",
      "dtypes: float64(11), int32(3), int64(15), object(4)\n",
      "memory usage: 10.6+ MB\n"
     ]
    }
   ],
   "source": [
    "from sklearn.preprocessing import LabelEncoder\n",
    "\n",
    "# Create a LabelEncoder instance\n",
    "label_encoder = LabelEncoder()\n",
    "\n",
    "# List of categorical columns\n",
    "categorical_columns = ['compartment', 'pre_brain_area','post_brain_area']\n",
    "\n",
    "# Apply label encoding to each categorical column\n",
    "for column in categorical_columns:\n",
    "    lb_data[column] = label_encoder.fit_transform(lb_data[column])\n",
    "\n",
    "# Display the updated DataFrame\n",
    "lb_data.info()"
   ]
  },
  {
   "cell_type": "code",
   "execution_count": null,
   "id": "50209e38",
   "metadata": {},
   "outputs": [],
   "source": [
    "\n",
    "\n"
   ]
  },
  {
   "cell_type": "code",
   "execution_count": null,
   "id": "c1f094f5",
   "metadata": {},
   "outputs": [],
   "source": []
  },
  {
   "cell_type": "markdown",
   "id": "f90da5e6",
   "metadata": {},
   "source": [
    "### Adding engineered distances"
   ]
  },
  {
   "cell_type": "code",
   "execution_count": 113,
   "id": "b02b4d82",
   "metadata": {},
   "outputs": [],
   "source": [
    "# Calculating the Eulidean distances between the axonal and dendritic coordinates\n",
    "\n",
    "\n",
    "\n",
    "# Calculate Euclidean distances and create a new column 'euclidean_distance'\n",
    "lb_data['euclidean_distance'] = np.sqrt(\n",
    "    (lb_data['axonal_coor_x'] - lb_data['dendritic_coor_x'])**2 +\n",
    "    (lb_data['axonal_coor_y'] - lb_data['dendritic_coor_y'])**2 +\n",
    "    (lb_data['axonal_coor_z'] - lb_data['dendritic_coor_z'])**2\n",
    ")\n",
    "\n",
    "# The 'euclidean_distance' column now contains the Euclidean distances\n",
    "\n",
    "\n",
    "# Calculate Euclidean distances between axonal and dendritic coordinates for both pre and post neurons\n",
    "lb_data['axonal_distance_pre'] = np.sqrt((lb_data['axonal_coor_x'] - lb_data['dendritic_coor_x'])**2 + (lb_data['axonal_coor_y'] - lb_data['dendritic_coor_y'])**2)\n",
    "lb_data['axonal_distance_post'] = np.sqrt((lb_data['axonal_coor_x'] - lb_data['dendritic_coor_x'])**2 + (lb_data['axonal_coor_y'] - lb_data['dendritic_coor_y'])**2)\n",
    "\n",
    "lb_data['dendritic_distance_pre'] = np.sqrt((lb_data['dendritic_coor_x'] - lb_data['axonal_coor_x'])**2 + (lb_data['dendritic_coor_y'] - lb_data['axonal_coor_y'])**2)\n",
    "lb_data['dendritic_distance_post'] = np.sqrt((lb_data['dendritic_coor_x'] - lb_data['axonal_coor_x'])**2 + (lb_data['dendritic_coor_y'] - lb_data['axonal_coor_y'])**2)\n",
    "\n",
    "# Combine these distances with Euclidean distances between readout locations\n",
    "lb_data['euclidean_distance_pre'] = np.sqrt((lb_data['pre_rf_x'] - lb_data['post_rf_x'])**2 + (lb_data['pre_rf_y'] - lb_data['post_rf_y'])**2)\n",
    "lb_data['euclidean_distance_post'] = np.sqrt((lb_data['pre_rf_x'] - lb_data['post_rf_x'])**2 + (lb_data['pre_rf_y'] - lb_data['post_rf_y'])**2)\n",
    "\n",
    "# Dataset contains both structural (axonal and dendritic distances) and spatial (Euclidean distances) features.\n",
    "\n",
    "# Create interaction terms between rf_x and rf_y for pre-synaptic neurons\n",
    "lb_data['pre_rf_x_rf_y_interaction'] = lb_data['pre_rf_x'] * lb_data['pre_rf_y']\n",
    "\n",
    "# Create interaction terms between rf_x and rf_y for post-synaptic neurons\n",
    "lb_data['post_rf_x_rf_y_interaction'] = lb_data['post_rf_x'] * lb_data['post_rf_y']\n",
    "\n",
    "# The dataset now contains interaction terms that capture relationships in visual space\n",
    "\n",
    "\n",
    "# Calculate the relative positions of post-synaptic neurons with respect to pre-synaptic neurons\n",
    "lb_data['relative_position_x'] = lb_data['post_rf_x'] - lb_data['pre_rf_x']\n",
    "lb_data['relative_position_y'] = lb_data['post_rf_y'] - lb_data['pre_rf_y']\n",
    "\n",
    "# dlb_dataataset contains \"relative_position_x\" and \"relative_position_y\" features\n",
    "\n",
    "# Create binary directional features\n",
    "lb_data['is_left'] = (lb_data['relative_position_x'] < 0).astype(int)\n",
    "lb_data['is_right'] = (lb_data['relative_position_x'] > 0).astype(int)\n",
    "lb_data['is_above'] = (lb_data['relative_position_y'] < 0).astype(int)\n",
    "lb_data['is_below'] = (lb_data['relative_position_y'] > 0).astype(int)\n",
    "\n",
    "# Dataset contains binary directional features\n",
    "\n"
   ]
  },
  {
   "cell_type": "code",
   "execution_count": 117,
   "id": "9a246e97",
   "metadata": {},
   "outputs": [
    {
     "name": "stdout",
     "output_type": "stream",
     "text": [
      "<class 'pandas.core.frame.DataFrame'>\n",
      "Int64Index: 42593 entries, 0 to 42592\n",
      "Data columns (total 49 columns):\n",
      " #   Column                          Non-Null Count  Dtype  \n",
      "---  ------                          --------------  -----  \n",
      " 0   ID                              42593 non-null  int64  \n",
      " 1   axonal_coor_x                   42593 non-null  int64  \n",
      " 2   axonal_coor_y                   42593 non-null  int64  \n",
      " 3   axonal_coor_z                   42593 non-null  int64  \n",
      " 4   dendritic_coor_x                42593 non-null  int64  \n",
      " 5   dendritic_coor_y                42593 non-null  int64  \n",
      " 6   dendritic_coor_z                42593 non-null  int64  \n",
      " 7   adp_dist                        42593 non-null  float64\n",
      " 8   post_skeletal_distance_to_soma  42593 non-null  float64\n",
      " 9   pre_skeletal_distance_to_soma   42593 non-null  float64\n",
      " 10  pre_oracle                      42593 non-null  float64\n",
      " 11  pre_test_score                  42593 non-null  float64\n",
      " 12  pre_rf_x                        42593 non-null  float64\n",
      " 13  pre_rf_y                        42593 non-null  float64\n",
      " 14  post_oracle                     42593 non-null  float64\n",
      " 15  post_test_score                 42593 non-null  float64\n",
      " 16  post_rf_x                       42593 non-null  float64\n",
      " 17  post_rf_y                       42593 non-null  float64\n",
      " 18  compartment                     42593 non-null  int32  \n",
      " 19  pre_brain_area                  42593 non-null  int32  \n",
      " 20  post_brain_area                 42593 non-null  int32  \n",
      " 21  pre_nucleus_x                   42593 non-null  int64  \n",
      " 22  pre_nucleus_y                   42593 non-null  int64  \n",
      " 23  pre_nucleus_z                   42593 non-null  int64  \n",
      " 24  post_nucleus_x                  42593 non-null  int64  \n",
      " 25  post_nucleus_y                  42593 non-null  int64  \n",
      " 26  post_nucleus_z                  42593 non-null  int64  \n",
      " 27  pre_nucleus_id                  42593 non-null  int64  \n",
      " 28  post_nucleus_id                 42593 non-null  int64  \n",
      " 29  pre_feature_weights             42593 non-null  object \n",
      " 30  post_feature_weights            42593 non-null  object \n",
      " 31  pre_morph_embeddings            42593 non-null  object \n",
      " 32  post_morph_embeddings           42593 non-null  object \n",
      " 33  euclidean_distance              42593 non-null  float64\n",
      " 34  axonal_distance_pre             42593 non-null  float64\n",
      " 35  axonal_distance_post            42593 non-null  float64\n",
      " 36  dendritic_distance_pre          42593 non-null  float64\n",
      " 37  dendritic_distance_post         42593 non-null  float64\n",
      " 38  euclidean_distance_pre          42593 non-null  float64\n",
      " 39  euclidean_distance_post         42593 non-null  float64\n",
      " 40  pre_rf_x_rf_y_interaction       42593 non-null  float64\n",
      " 41  post_rf_x_rf_y_interaction      42593 non-null  float64\n",
      " 42  relative_position_x             42593 non-null  float64\n",
      " 43  relative_position_y             42593 non-null  float64\n",
      " 44  is_left                         42593 non-null  int32  \n",
      " 45  is_right                        42593 non-null  int32  \n",
      " 46  is_above                        42593 non-null  int32  \n",
      " 47  is_below                        42593 non-null  int32  \n",
      " 48  fw_similarity                   42593 non-null  float64\n",
      "dtypes: float64(23), int32(7), int64(15), object(4)\n",
      "memory usage: 15.1+ MB\n"
     ]
    }
   ],
   "source": [
    "# compute the cosine similarity between the pre- and post- feature weights\n",
    "lb_data[\"fw_similarity\"] = lb_data.apply(row_feature_similarity, axis=1)\n",
    "\n",
    "\n",
    "\n",
    "\n",
    "lb_data.info()"
   ]
  },
  {
   "cell_type": "code",
   "execution_count": 118,
   "id": "edb4f144",
   "metadata": {},
   "outputs": [
    {
     "data": {
      "image/png": "[encoded data removed]",
      "text/plain": [
       "<Figure size 640x480 with 1 Axes>"
      ]
     },
     "metadata": {},
     "output_type": "display_data"
    }
   ],
   "source": [
    "# Apply PCA to lb_data\n",
    "\n",
    "\n",
    "# Exclude non-numeric and non-categorical columns from the PCA\n",
    "exclude_cols = ['ID', \n",
    "                'pre_feature_weights',\n",
    "                'post_feature_weights', \n",
    "                'pre_morph_embeddings', \n",
    "                'post_morph_embeddings',\n",
    "                'is_left',\n",
    "                'is_right',\n",
    "                'is_above',\n",
    "                'is_below'\n",
    "               ]\n",
    "\n",
    "# Select only numeric columns for PCA\n",
    "numeric_columns = [col for col in lb_data.columns if col not in exclude_cols]\n",
    "\n",
    "# Standardize the data (if needed)\n",
    "scaler = StandardScaler()\n",
    "lb_data[numeric_columns] = scaler.fit_transform(lb_data[numeric_columns])\n",
    "\n",
    "# Create a PCA object (you can specify the number of components)\n",
    "pca = PCA(n_components=15)\n",
    "\n",
    "# Fit and transform the data\n",
    "pca_result = pca.fit_transform(lb_data[numeric_columns])\n",
    "\n",
    "# # Create a DataFrame for visualization\n",
    "pca_df = pd.DataFrame(data=pca_result, columns=['1', '2','3','4','5','6','7','8','9','10','11','12','13','14','15'])\n",
    "\n",
    "# Visualize the PCA results\n",
    "plt.scatter(pca_df['1'], pca_df['2'])\n",
    "plt.title('PCA Visualization of Numeric Columns')\n",
    "plt.xlabel('Principal Component 1')\n",
    "plt.ylabel('Principal Component 2')\n",
    "plt.show()"
   ]
  },
  {
   "cell_type": "code",
   "execution_count": 119,
   "id": "7a8e702c",
   "metadata": {},
   "outputs": [],
   "source": [
    "# oversample connected neuron pairs for full training data\n",
    "ros = RandomOverSampler(random_state=0)\n",
    "X_resampled, y_resampled = ros.fit_resample(\n",
    "    data[[\"fw_similarity\", \n",
    "          \"adp_dist\",  \n",
    "          \"post_skeletal_distance_to_soma\",\n",
    "          \"pre_skeletal_distance_to_soma\",\n",
    "          \"pre_oracle\",\n",
    "          \"post_oracle\",\n",
    "          \"pre_test_score\",\n",
    "          \"post_test_score\",\n",
    "          \"pre_rf_x\",\n",
    "          \"pre_rf_y\",\n",
    "          \"post_rf_x\",\n",
    "          \"post_rf_y\",\n",
    "          \"compartment\",\n",
    "          \"pre_brain_area\",\n",
    "          \"post_brain_area\",\n",
    "          \"euclidean_distance\",\n",
    "          \"axonal_distance_pre\",\n",
    "          \"axonal_distance_post\",\n",
    "          \"dendritic_distance_pre\",\n",
    "          \"dendritic_distance_post\",\n",
    "          \"euclidean_distance_pre\",\n",
    "          \"euclidean_distance_post\",\n",
    "          \"relative_position_x\",\n",
    "          \"relative_position_y\",\n",
    "          \"is_left\",\n",
    "          \"is_right\",\n",
    "          \"is_above\",\n",
    "          \"is_below\",\n",
    "          \"pre_rf_x_rf_y_interaction\",\n",
    "          \"post_rf_x_rf_y_interaction\"\n",
    "                      \n",
    "         \n",
    "         ]], \n",
    "    \n",
    "    data[\"connected\"]\n",
    ")\n",
    "\n",
    "# fit model\n",
    "pipe.fit(X_resampled, y_resampled)\n",
    "\n",
    "# predict on leaderboard data\n",
    "lb_data[\"pred\"] = pipe.predict_proba(lb_data[[\"fw_similarity\", \n",
    "                                              \"adp_dist\",  \n",
    "                                              \"post_skeletal_distance_to_soma\",\n",
    "                                              \"pre_skeletal_distance_to_soma\",\n",
    "                                              \"pre_oracle\",\n",
    "                                              \"post_oracle\",\n",
    "                                              \"pre_test_score\",\n",
    "                                              \"post_test_score\",\n",
    "                                              \"pre_rf_x\",\n",
    "                                              \"pre_rf_y\",\n",
    "                                              \"post_rf_x\",\n",
    "                                              \"post_rf_y\",\n",
    "                                              \"compartment\",\n",
    "                                              \"pre_brain_area\",\n",
    "                                              \"post_brain_area\",\n",
    "                                              \"euclidean_distance\",\n",
    "                                              \"axonal_distance_pre\",\n",
    "                                              \"axonal_distance_post\",\n",
    "                                              \"dendritic_distance_pre\",\n",
    "                                              \"dendritic_distance_post\",\n",
    "                                              \"euclidean_distance_pre\",\n",
    "                                              \"euclidean_distance_post\",\n",
    "                                              \"relative_position_x\",\n",
    "                                              \"relative_position_y\",\n",
    "                                              \"is_left\",\n",
    "                                              \"is_right\",\n",
    "                                              \"is_above\",\n",
    "                                              \"is_below\",\n",
    "                                              \"pre_rf_x_rf_y_interaction\",\n",
    "                                              \"post_rf_x_rf_y_interaction\"\n",
    "\n",
    "\n",
    "                                             ]])[:, 1]\n",
    "\n",
    "#create a boolean prediction solution\n",
    "lb_data[\"connected\"] = lb_data[\"pred\"] > .5"
   ]
  },
  {
   "cell_type": "markdown",
   "id": "69c96a3f",
   "metadata": {},
   "source": [
    "### Example of Creating a Leaderboard Submission File"
   ]
  },
  {
   "cell_type": "code",
   "execution_count": 120,
   "id": "771bb7d2",
   "metadata": {},
   "outputs": [],
   "source": [
    "#columns should be ID, connected\n",
    "submission_data = lb_data.filter(['ID','connected'])"
   ]
  },
  {
   "cell_type": "code",
   "execution_count": 121,
   "id": "9ad284b2",
   "metadata": {},
   "outputs": [],
   "source": [
    "#writing csv files\n",
    "submission_data.to_csv('submissions/New_submission_10_23_23.csv',index=False)"
   ]
  },
  {
   "cell_type": "code",
   "execution_count": null,
   "id": "d34d00f8",
   "metadata": {},
   "outputs": [],
   "source": []
  }
 ],
 "metadata": {
  "kernelspec": {
   "display_name": "Python 3 (ipykernel)",
   "language": "python",
   "name": "python3"
  },
  "language_info": {
   "codemirror_mode": {
    "name": "ipython",
    "version": 3
   },
   "file_extension": ".py",
   "mimetype": "text/x-python",
   "name": "python",
   "nbconvert_exporter": "python",
   "pygments_lexer": "ipython3",
   "version": "3.11.5"
  }
 },
 "nbformat": 4,
 "nbformat_minor": 5
}
