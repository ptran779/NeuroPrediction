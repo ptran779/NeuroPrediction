{
 "cells": [
  {
   "cell_type": "markdown",
   "id": "0a38a23b",
   "metadata": {},
   "source": [
    "# Example Notebook: Neuron Synapse Competition"
   ]
  },
  {
   "cell_type": "markdown",
   "id": "66105ff6",
   "metadata": {},
   "source": [
    "## Load in and Wrangle Training Data"
   ]
  },
  {
   "cell_type": "code",
   "execution_count": 4,
   "id": "e2237b6d",
   "metadata": {
    "ExecuteTime": {
     "end_time": "2023-11-01T20:24:40.818413053Z",
     "start_time": "2023-11-01T20:24:40.208902278Z"
    }
   },
   "outputs": [],
   "source": [
    "import pandas as pd\n",
    "import numpy as np\n",
    "import matplotlib.pyplot as plt\n",
    "import seaborn as sns\n",
    "\n",
    "#load in training data on each potential synapse\n",
    "data = pd.read_csv(\"../resource/train_data.csv\")\n",
    "\n",
    "#load in additional features for each neuron\n",
    "feature_weights = pd.read_csv(\"../resource/feature_weights.csv\")\n",
    "morph_embeddings = pd.read_csv(\"../resource/morph_embeddings.csv\")"
   ]
  },
  {
   "cell_type": "markdown",
   "id": "c4070b48",
   "metadata": {},
   "source": [
    "#### Basic info on these dataframes"
   ]
  },
  {
   "cell_type": "code",
   "execution_count": 5,
   "id": "21377c2f",
   "metadata": {
    "ExecuteTime": {
     "end_time": "2023-11-01T20:24:42.168461611Z",
     "start_time": "2023-11-01T20:24:42.092626071Z"
    }
   },
   "outputs": [
    {
     "name": "stdout",
     "output_type": "stream",
     "text": [
      "Main Dataframe Size: (185832, 30)\n",
      "\n",
      "Main Dataframe:\n",
      "<class 'pandas.core.frame.DataFrame'>\n",
      "RangeIndex: 185832 entries, 0 to 185831\n",
      "Data columns (total 30 columns):\n",
      " #   Column                          Non-Null Count   Dtype  \n",
      "---  ------                          --------------   -----  \n",
      " 0   ID                              185832 non-null  int64  \n",
      " 1   axonal_coor_x                   185832 non-null  int64  \n",
      " 2   axonal_coor_y                   185832 non-null  int64  \n",
      " 3   axonal_coor_z                   185832 non-null  int64  \n",
      " 4   dendritic_coor_x                185832 non-null  int64  \n",
      " 5   dendritic_coor_y                185832 non-null  int64  \n",
      " 6   dendritic_coor_z                185832 non-null  int64  \n",
      " 7   adp_dist                        185832 non-null  float64\n",
      " 8   post_skeletal_distance_to_soma  185832 non-null  float64\n",
      " 9   pre_skeletal_distance_to_soma   185832 non-null  float64\n",
      " 10  pre_oracle                      185832 non-null  float64\n",
      " 11  pre_test_score                  185832 non-null  float64\n",
      " 12  pre_rf_x                        185832 non-null  float64\n",
      " 13  pre_rf_y                        185832 non-null  float64\n",
      " 14  post_oracle                     185832 non-null  float64\n",
      " 15  post_test_score                 185832 non-null  float64\n",
      " 16  post_rf_x                       185832 non-null  float64\n",
      " 17  post_rf_y                       185832 non-null  float64\n",
      " 18  compartment                     185832 non-null  object \n",
      " 19  pre_brain_area                  185832 non-null  object \n",
      " 20  post_brain_area                 185832 non-null  object \n",
      " 21  pre_nucleus_x                   185832 non-null  int64  \n",
      " 22  pre_nucleus_y                   185832 non-null  int64  \n",
      " 23  pre_nucleus_z                   185832 non-null  int64  \n",
      " 24  post_nucleus_x                  185832 non-null  int64  \n",
      " 25  post_nucleus_y                  185832 non-null  int64  \n",
      " 26  post_nucleus_z                  185832 non-null  int64  \n",
      " 27  pre_nucleus_id                  185832 non-null  int64  \n",
      " 28  post_nucleus_id                 185832 non-null  int64  \n",
      " 29  connected                       185832 non-null  bool   \n",
      "dtypes: bool(1), float64(11), int64(15), object(3)\n",
      "memory usage: 41.3+ MB\n",
      "\n",
      "Feature Weights Size: (2692, 513)\n",
      "\n",
      "Feature Weights:\n",
      "<class 'pandas.core.frame.DataFrame'>\n",
      "RangeIndex: 2692 entries, 0 to 2691\n",
      "Columns: 513 entries, nucleus_id to feature_weight_511\n",
      "dtypes: float64(512), int64(1)\n",
      "memory usage: 10.5 MB\n",
      "\n",
      "Morphological Embeddings Size: (2667, 33)\n",
      "\n",
      "Morphological Embeddings:\n",
      "<class 'pandas.core.frame.DataFrame'>\n",
      "RangeIndex: 2667 entries, 0 to 2666\n",
      "Columns: 33 entries, nucleus_id to morph_emb_31\n",
      "dtypes: float64(32), int64(1)\n",
      "memory usage: 687.7 KB\n"
     ]
    }
   ],
   "source": [
    "print(\"Main Dataframe Size:\",data.shape)\n",
    "print(\"\\nMain Dataframe:\")\n",
    "data.info()\n",
    "\n",
    "print(\"\\nFeature Weights Size:\",feature_weights.shape)\n",
    "print(\"\\nFeature Weights:\")\n",
    "feature_weights.info(verbose=False)\n",
    "\n",
    "print(\"\\nMorphological Embeddings Size:\",morph_embeddings.shape)\n",
    "print(\"\\nMorphological Embeddings:\")\n",
    "morph_embeddings.info(verbose=False)"
   ]
  },
  {
   "cell_type": "markdown",
   "id": "9157b5f4",
   "metadata": {},
   "source": [
    "See the documentation for additional information on these features.  The main dataframe contains features for each potential synapse (each row).  The outcome to predict is 'connected'.  Note that many of the raw features in this dataframe will not be directly useful for prediction (e.g. x,y,z coordiantes, pre- and post-synapse neuron ID and etc.).  You will need to creatively engineer new features that will be more useful for prediction.\n",
    "\n",
    "The additional information on feature weights and morphological embeddings are given for each separate neuron (the neuron ID is matched with that in the main dataframe).  These will need to be merged with the other data to create training and test sets. "
   ]
  },
  {
   "cell_type": "markdown",
   "id": "49737cbf",
   "metadata": {},
   "source": [
    "#### Merge Data"
   ]
  },
  {
   "cell_type": "markdown",
   "id": "2b83752d",
   "metadata": {},
   "source": [
    "Before merging, we concatenate the feature weights and morphological embeddings into np.array's to decrease memory usage."
   ]
  },
  {
   "cell_type": "code",
   "execution_count": 64,
   "id": "2a78bac9",
   "metadata": {
    "ExecuteTime": {
     "end_time": "2023-10-23T03:37:45.266254887Z",
     "start_time": "2023-10-23T03:37:45.200758205Z"
    }
   },
   "outputs": [],
   "source": [
    "# join all feature_weight_i columns into a single np.array column\n",
    "feature_weights[\"feature_weights\"] = (\n",
    "    feature_weights.filter(regex=\"feature_weight_\")\n",
    "    .sort_index(axis=1)\n",
    "    .apply(lambda x: np.array(x), axis=1)\n",
    ")\n",
    "# delete the feature_weight_i columns\n",
    "feature_weights.drop(\n",
    "    feature_weights.filter(regex=\"feature_weight_\").columns, axis=1, inplace=True\n",
    ")\n",
    "\n",
    "# join all morph_embed_i columns into a single np.array column\n",
    "morph_embeddings[\"morph_embeddings\"] = (\n",
    "    morph_embeddings.filter(regex=\"morph_emb_\")\n",
    "    .sort_index(axis=1)\n",
    "    .apply(lambda x: np.array(x), axis=1)\n",
    ")\n",
    "# delete the morph_embed_i columns\n",
    "morph_embeddings.drop(\n",
    "    morph_embeddings.filter(regex=\"morph_emb_\").columns, axis=1, inplace=True\n",
    ")"
   ]
  },
  {
   "cell_type": "code",
   "execution_count": 65,
   "id": "3f87211b",
   "metadata": {
    "ExecuteTime": {
     "end_time": "2023-10-23T03:37:45.312502285Z",
     "start_time": "2023-10-23T03:37:45.249872563Z"
    }
   },
   "outputs": [],
   "source": [
    "data = (\n",
    "    data.merge(\n",
    "        feature_weights.rename(columns=lambda x: \"pre_\" + x), \n",
    "        how=\"left\", \n",
    "        validate=\"m:1\",\n",
    "        copy=False,\n",
    "    )\n",
    "    .merge(\n",
    "        feature_weights.rename(columns=lambda x: \"post_\" + x),\n",
    "        how=\"left\",\n",
    "        validate=\"m:1\",\n",
    "        copy=False,\n",
    "    )\n",
    "    .merge(\n",
    "        morph_embeddings.rename(columns=lambda x: \"pre_\" + x),\n",
    "        how=\"left\",\n",
    "        validate=\"m:1\",\n",
    "        copy=False,\n",
    "    )\n",
    "    .merge(\n",
    "        morph_embeddings.rename(columns=lambda x: \"post_\" + x),\n",
    "        how=\"left\",\n",
    "        validate=\"m:1\",\n",
    "        copy=False,\n",
    "    )\n",
    ")"
   ]
  },
  {
   "cell_type": "code",
   "execution_count": 66,
   "id": "210ce030",
   "metadata": {
    "ExecuteTime": {
     "end_time": "2023-10-23T03:37:45.351886785Z",
     "start_time": "2023-10-23T03:37:45.314657429Z"
    }
   },
   "outputs": [
    {
     "name": "stdout",
     "output_type": "stream",
     "text": [
      "Data Size: (185832, 34)\n",
      "\n",
      "Data:\n",
      "<class 'pandas.core.frame.DataFrame'>\n",
      "RangeIndex: 185832 entries, 0 to 185831\n",
      "Data columns (total 34 columns):\n",
      " #   Column                          Non-Null Count   Dtype  \n",
      "---  ------                          --------------   -----  \n",
      " 0   ID                              185832 non-null  int64  \n",
      " 1   axonal_coor_x                   185832 non-null  int64  \n",
      " 2   axonal_coor_y                   185832 non-null  int64  \n",
      " 3   axonal_coor_z                   185832 non-null  int64  \n",
      " 4   dendritic_coor_x                185832 non-null  int64  \n",
      " 5   dendritic_coor_y                185832 non-null  int64  \n",
      " 6   dendritic_coor_z                185832 non-null  int64  \n",
      " 7   adp_dist                        185832 non-null  float64\n",
      " 8   post_skeletal_distance_to_soma  185832 non-null  float64\n",
      " 9   pre_skeletal_distance_to_soma   185832 non-null  float64\n",
      " 10  pre_oracle                      185832 non-null  float64\n",
      " 11  pre_test_score                  185832 non-null  float64\n",
      " 12  pre_rf_x                        185832 non-null  float64\n",
      " 13  pre_rf_y                        185832 non-null  float64\n",
      " 14  post_oracle                     185832 non-null  float64\n",
      " 15  post_test_score                 185832 non-null  float64\n",
      " 16  post_rf_x                       185832 non-null  float64\n",
      " 17  post_rf_y                       185832 non-null  float64\n",
      " 18  compartment                     185832 non-null  object \n",
      " 19  pre_brain_area                  185832 non-null  object \n",
      " 20  post_brain_area                 185832 non-null  object \n",
      " 21  pre_nucleus_x                   185832 non-null  int64  \n",
      " 22  pre_nucleus_y                   185832 non-null  int64  \n",
      " 23  pre_nucleus_z                   185832 non-null  int64  \n",
      " 24  post_nucleus_x                  185832 non-null  int64  \n",
      " 25  post_nucleus_y                  185832 non-null  int64  \n",
      " 26  post_nucleus_z                  185832 non-null  int64  \n",
      " 27  pre_nucleus_id                  185832 non-null  int64  \n",
      " 28  post_nucleus_id                 185832 non-null  int64  \n",
      " 29  connected                       185832 non-null  bool   \n",
      " 30  pre_feature_weights             185832 non-null  object \n",
      " 31  post_feature_weights            185832 non-null  object \n",
      " 32  pre_morph_embeddings            138123 non-null  object \n",
      " 33  post_morph_embeddings           185832 non-null  object \n",
      "dtypes: bool(1), float64(11), int64(15), object(7)\n",
      "memory usage: 47.0+ MB\n"
     ]
    }
   ],
   "source": [
    "print(\"Data Size:\",data.shape)\n",
    "print(\"\\nData:\")\n",
    "data.info()"
   ]
  },
  {
   "cell_type": "code",
   "execution_count": 96,
   "outputs": [
    {
     "name": "stdout",
     "output_type": "stream",
     "text": [
      "Only 72 out of 77 are real sender\n",
      "Only 978 out of 2663 are real receiver\n",
      "92164\n",
      "<class 'pandas.core.frame.DataFrame'>\n",
      "Index: 92164 entries, 17 to 185819\n",
      "Data columns (total 30 columns):\n",
      " #   Column                          Non-Null Count  Dtype  \n",
      "---  ------                          --------------  -----  \n",
      " 0   ID                              92164 non-null  int64  \n",
      " 1   axonal_coor_x                   92164 non-null  int64  \n",
      " 2   axonal_coor_y                   92164 non-null  int64  \n",
      " 3   axonal_coor_z                   92164 non-null  int64  \n",
      " 4   dendritic_coor_x                92164 non-null  int64  \n",
      " 5   dendritic_coor_y                92164 non-null  int64  \n",
      " 6   dendritic_coor_z                92164 non-null  int64  \n",
      " 7   adp_dist                        92164 non-null  float64\n",
      " 8   post_skeletal_distance_to_soma  92164 non-null  float64\n",
      " 9   pre_skeletal_distance_to_soma   92164 non-null  float64\n",
      " 10  pre_oracle                      92164 non-null  float64\n",
      " 11  pre_test_score                  92164 non-null  float64\n",
      " 12  pre_rf_x                        92164 non-null  float64\n",
      " 13  pre_rf_y                        92164 non-null  float64\n",
      " 14  post_oracle                     92164 non-null  float64\n",
      " 15  post_test_score                 92164 non-null  float64\n",
      " 16  post_rf_x                       92164 non-null  float64\n",
      " 17  post_rf_y                       92164 non-null  float64\n",
      " 18  compartment                     92164 non-null  object \n",
      " 19  pre_brain_area                  92164 non-null  object \n",
      " 20  post_brain_area                 92164 non-null  object \n",
      " 21  pre_nucleus_x                   92164 non-null  int64  \n",
      " 22  pre_nucleus_y                   92164 non-null  int64  \n",
      " 23  pre_nucleus_z                   92164 non-null  int64  \n",
      " 24  post_nucleus_x                  92164 non-null  int64  \n",
      " 25  post_nucleus_y                  92164 non-null  int64  \n",
      " 26  post_nucleus_z                  92164 non-null  int64  \n",
      " 27  pre_nucleus_id                  92164 non-null  int64  \n",
      " 28  post_nucleus_id                 92164 non-null  int64  \n",
      " 29  connected                       92164 non-null  bool   \n",
      "dtypes: bool(1), float64(11), int64(15), object(3)\n",
      "memory usage: 21.2+ MB\n"
     ]
    }
   ],
   "source": [
    "# reorganized data and remove all useless neuron -- write output to new file\n",
    "linkedDat = data[data['connected'] == True]\n",
    "print(\"Only {} out of {} are real sender\".format(linkedDat['pre_nucleus_id'].nunique(), data['pre_nucleus_id'].nunique()))\n",
    "print(\"Only {} out of {} are real receiver\".format(linkedDat['post_nucleus_id'].nunique(), data['post_nucleus_id'].nunique()))\n",
    "\n",
    "# obtain useful neuro related set (neuron that actually connect)\n",
    "preNeroLinked = set(linkedDat['pre_nucleus_id'].unique())\n",
    "postNeroLinked = set(linkedDat['post_nucleus_id'].unique())\n",
    "\n",
    "# down-sample to only point that contain 2 useful neuron\n",
    "usefullDat = data[(data['pre_nucleus_id']).isin(preNeroLinked) & (data['post_nucleus_id'].isin(postNeroLinked))]\n",
    "print(len(usefullDat))\n",
    "usefullDat.info()\n",
    "usefullDat.to_csv('data2.csv')\n",
    "\n"
   ],
   "metadata": {
    "collapsed": false,
    "ExecuteTime": {
     "end_time": "2023-10-23T03:47:08.518230080Z",
     "start_time": "2023-10-23T03:47:07.590420197Z"
    }
   },
   "id": "10c326fcd13c4e8b"
  },
  {
   "cell_type": "code",
   "execution_count": 68,
   "outputs": [],
   "source": [
    "# # change name handler \n",
    "# rawDat = data\n",
    "# data = usefullDat\n",
    "# #rawDat.info()\n",
    "# #data.info()"
   ],
   "metadata": {
    "collapsed": false,
    "ExecuteTime": {
     "end_time": "2023-10-23T03:37:45.397024274Z",
     "start_time": "2023-10-23T03:37:45.395030601Z"
    }
   },
   "id": "5f84eaa2650dd891"
  },
  {
   "cell_type": "markdown",
   "id": "798015c5",
   "metadata": {},
   "source": [
    "## Basic Exploratory Analysis"
   ]
  },
  {
   "cell_type": "code",
   "execution_count": 69,
   "id": "bcdb53dc",
   "metadata": {
    "ExecuteTime": {
     "end_time": "2023-10-23T03:37:45.440600753Z",
     "start_time": "2023-10-23T03:37:45.395241590Z"
    }
   },
   "outputs": [],
   "source": [
    "import numpy as np\n",
    "import pandas as pd\n",
    "import seaborn as sns\n",
    "import matplotlib.pyplot as plt\n",
    "from tqdm import tqdm\n",
    "from sklearn.metrics.pairwise import cosine_similarity"
   ]
  },
  {
   "cell_type": "markdown",
   "id": "2dc227ee",
   "metadata": {},
   "source": [
    "### Unbalanced Data"
   ]
  },
  {
   "cell_type": "markdown",
   "id": "660421ac",
   "metadata": {},
   "source": [
    "The outcomes, the adps that form a connection or synapse ('connected'==True) and the adps that do not synapse ('connected'==False), are unbalanced:"
   ]
  },
  {
   "cell_type": "code",
   "execution_count": 70,
   "id": "13ff436c",
   "metadata": {
    "ExecuteTime": {
     "end_time": "2023-10-23T03:37:45.440950375Z",
     "start_time": "2023-10-23T03:37:45.438955026Z"
    }
   },
   "outputs": [
    {
     "name": "stdout",
     "output_type": "stream",
     "text": [
      "Number Connected (Synapses): 1366\n",
      "\n",
      "Number Not Connected: 184466\n"
     ]
    }
   ],
   "source": [
    "print(\"Number Connected (Synapses):\",data['connected'].sum())\n",
    "\n",
    "print(\"\\nNumber Not Connected:\",(~data['connected']).sum())"
   ]
  },
  {
   "cell_type": "markdown",
   "id": "1abf1022",
   "metadata": {},
   "source": [
    "The number of presynaptic neurons and postsynaptic neurons are also unbalanced:"
   ]
  },
  {
   "cell_type": "code",
   "execution_count": 71,
   "id": "44a8917f",
   "metadata": {
    "ExecuteTime": {
     "end_time": "2023-10-23T03:37:45.441169745Z",
     "start_time": "2023-10-23T03:37:45.439170275Z"
    }
   },
   "outputs": [
    {
     "name": "stdout",
     "output_type": "stream",
     "text": [
      "All the adps are from 77 pre- neurons and 2663 post- neurons.\n",
      "there are total 2684 unique neurons\n"
     ]
    }
   ],
   "source": [
    "print(f\"All the adps are from {data['pre_nucleus_id'].nunique()} pre- neurons and {data['post_nucleus_id'].nunique()} post- neurons.\")\n",
    "print(\"there are total {} unique neurons\".format(pd.concat([data['pre_nucleus_id'], data['post_nucleus_id']]).nunique()))"
   ]
  },
  {
   "cell_type": "markdown",
   "id": "e8c02cc6",
   "metadata": {},
   "source": [
    "### Exploration: Synaptic Proximity Distance "
   ]
  },
  {
   "cell_type": "code",
   "execution_count": 72,
   "id": "a6163e8c",
   "metadata": {
    "ExecuteTime": {
     "end_time": "2023-10-23T03:37:45.731155265Z",
     "start_time": "2023-10-23T03:37:45.439286840Z"
    }
   },
   "outputs": [
    {
     "data": {
      "text/plain": "<seaborn.axisgrid.FacetGrid at 0x7fae5bdbda50>"
     },
     "execution_count": 72,
     "metadata": {},
     "output_type": "execute_result"
    },
    {
     "data": {
      "text/plain": "<Figure size 500x500 with 1 Axes>",
      "image/png": "[encoded data removed]"
     },
     "metadata": {},
     "output_type": "display_data"
    }
   ],
   "source": [
    "sns.catplot(data=data, x='connected', y='adp_dist', kind='boxen')\n",
    "\n",
    "# plt.figure()\n",
    "# count_data = data.groupby([\"pre_brain_area\", \"connected\"]).size().reset_index(name=\"count\")\n",
    "# count_data[\"log_count\"] = np.log(count_data[\"count\"] + 1)  # Adding 1 to avoid log(0)\n",
    "# sns.barplot(x=\"pre_brain_area\", y=\"log_count\", hue=\"connected\", data=count_data)\n",
    "# # sns.countplot(x=\"pre_brain_area\", hue=\"connected\", data=data)\n",
    "# plt.figure()\n",
    "# count_data = data.groupby([\"post_brain_area\", \"connected\"]).size().reset_index(name=\"count\")\n",
    "# count_data[\"log_count\"] = np.log(count_data[\"count\"] + 1)  # Adding 1 to avoid log(0)\n",
    "# sns.barplot(x=\"post_brain_area\", y=\"log_count\", hue=\"connected\", data=count_data)\n",
    "# # sns.countplot(x=\"post_brain_area\", hue=\"connected\", data=data)"
   ]
  },
  {
   "cell_type": "markdown",
   "source": [
    "Neurons that form a synpase ('connected') tend to be closer together (smaller distance between pre- and post-synaptic ADP - 'adp_dist')."
   ],
   "metadata": {
    "collapsed": false
   },
   "id": "f39f1fa899ac831c"
  },
  {
   "cell_type": "code",
   "execution_count": 73,
   "outputs": [
    {
     "name": "stdout",
     "output_type": "stream",
     "text": [
      "Only 72 out of 77 are real sender\n",
      "Only 978 out of 2663 are real receiver\n"
     ]
    }
   ],
   "source": [
    "# I wonder how many neuron are useless?\n",
    "linkedDat = data[data['connected'] == True]\n",
    "print(\"Only {} out of {} are real sender\".format(linkedDat['pre_nucleus_id'].nunique(), data['pre_nucleus_id'].nunique()))\n",
    "print(\"Only {} out of {} are real receiver\".format(linkedDat['post_nucleus_id'].nunique(), data['post_nucleus_id'].nunique()))"
   ],
   "metadata": {
    "collapsed": false,
    "ExecuteTime": {
     "end_time": "2023-10-23T03:37:45.731508799Z",
     "start_time": "2023-10-23T03:37:45.730990162Z"
    }
   },
   "id": "cdf9b3a9b4d4e585"
  },
  {
   "cell_type": "code",
   "execution_count": 74,
   "outputs": [
    {
     "data": {
      "text/plain": "<seaborn.axisgrid.FacetGrid at 0x7fae56486200>"
     },
     "execution_count": 74,
     "metadata": {},
     "output_type": "execute_result"
    },
    {
     "data": {
      "text/plain": "<Figure size 500x500 with 1 Axes>",
      "image/png": "[encoded data removed]"
     },
     "metadata": {},
     "output_type": "display_data"
    },
    {
     "data": {
      "text/plain": "<Figure size 640x480 with 0 Axes>"
     },
     "metadata": {},
     "output_type": "display_data"
    },
    {
     "data": {
      "text/plain": "<Figure size 500x500 with 1 Axes>",
      "image/png": "[encoded data removed]"
     },
     "metadata": {},
     "output_type": "display_data"
    },
    {
     "data": {
      "text/plain": "<Figure size 640x480 with 0 Axes>"
     },
     "metadata": {},
     "output_type": "display_data"
    },
    {
     "data": {
      "text/plain": "<Figure size 500x500 with 1 Axes>",
      "image/png": "[encoded data removed]"
     },
     "metadata": {},
     "output_type": "display_data"
    }
   ],
   "source": [
    "# let see where are the synapse stay on the 3D space\n",
    "# sns.scatterplot(data=data, x='axonal_coor_x', y='axonal_coor_y', hue='connected')\n",
    "# plt.xlabel(\"X-axis\")\n",
    "# plt.ylabel(\"Y-axis\")\n",
    "# plt.legend(title=\"Groups\")\n",
    "# plt.title(\"side view\")\n",
    "# plt.figure()\n",
    "# sns.scatterplot(data=data, x='c', y='axonal_coor_y', hue='connected')\n",
    "# plt.xlabel(\"X-axis\")\n",
    "# plt.ylabel(\"Z-axis\")\n",
    "# plt.legend(title=\"Groups\")\n",
    "# plt.title(\"bird view\")\n",
    "\n",
    "# somewhat laggy, so here's the box plot\n",
    "sns.catplot(data=data, x='connected', y='axonal_coor_x', kind='boxen')\n",
    "plt.figure()\n",
    "sns.catplot(data=data, x='connected', y='axonal_coor_y', kind='boxen')\n",
    "plt.figure()\n",
    "sns.catplot(data=data, x='connected', y='axonal_coor_z', kind='boxen')\n",
    "# relatively the same"
   ],
   "metadata": {
    "collapsed": false,
    "ExecuteTime": {
     "end_time": "2023-10-23T03:37:46.674088796Z",
     "start_time": "2023-10-23T03:37:45.731277347Z"
    }
   },
   "id": "c8a0ec8c3aa564c9"
  },
  {
   "cell_type": "code",
   "execution_count": 75,
   "outputs": [
    {
     "name": "stdout",
     "output_type": "stream",
     "text": [
      "<class 'pandas.core.frame.DataFrame'>\n",
      "Index: 53202 entries, 0 to 185820\n",
      "Data columns (total 9 columns):\n",
      " #   Column           Non-Null Count  Dtype\n",
      "---  ------           --------------  -----\n",
      " 0   pre_nucleus_id   53202 non-null  int64\n",
      " 1   pre_nucleus_x    53202 non-null  int64\n",
      " 2   pre_nucleus_y    53202 non-null  int64\n",
      " 3   pre_nucleus_z    53202 non-null  int64\n",
      " 4   post_nucleus_id  53202 non-null  int64\n",
      " 5   post_nucleus_x   53202 non-null  int64\n",
      " 6   post_nucleus_y   53202 non-null  int64\n",
      " 7   post_nucleus_z   53202 non-null  int64\n",
      " 8   connected        53202 non-null  bool \n",
      "dtypes: bool(1), int64(8)\n",
      "memory usage: 3.7 MB\n",
      "53202\n"
     ]
    }
   ],
   "source": [
    "# Neuron analysis -- graph visualization and see who shoothing to who\n",
    "import networkx as nx\n",
    "\n",
    "# extract raw neuron identity \n",
    "dataNeuron = data[['pre_nucleus_id', 'pre_nucleus_x','pre_nucleus_y', 'pre_nucleus_z', 'post_nucleus_id', 'post_nucleus_x','post_nucleus_y', 'post_nucleus_z','connected']].copy()\n",
    "dataNeuron = dataNeuron.drop_duplicates()\n",
    "dataNeuron.info()\n",
    "print(len(dataNeuron))\n",
    "# not very efficient: get a list of all the neuron id+loc. then get all edge. then send to graph and see what happen\n",
    "# if graph not work, make own graph: plot all neuron with edge, then add in null neuron\n",
    "\n",
    "\n",
    "# # Create an empty directed graph\n",
    "# G = nx.DiGraph()\n",
    "# \n",
    "# # Add nodes (neurons)\n",
    "# neurons = ['Neuron1', 'Neuron2', 'Neuron3']\n",
    "# G.add_nodes_from(neurons)\n",
    "# \n",
    "# # Add directed edges (connections) with directions\n",
    "# connections = [('Neuron1', 'Neuron2', {'direction': 'excitatory'}),\n",
    "#                ('Neuron2', 'Neuron3', {'direction': 'inhibitory'})]\n",
    "# G.add_edges_from(connections)\n",
    "# import matplotlib.pyplot as plt\n",
    "# \n",
    "# # Define the layout for the graph\n",
    "# pos = nx.spring_layout(G)\n",
    "# \n",
    "# # Draw nodes and edges\n",
    "# nx.draw(G, pos, with_labels=True, node_size=500, node_color='lightblue', font_size=10)\n",
    "# labels = nx.get_edge_attributes(G, 'direction')\n",
    "# nx.draw_networkx_edge_labels(G, pos, edge_labels=labels, font_size=8)\n",
    "# \n",
    "# # Show the plot\n",
    "# plt.show()"
   ],
   "metadata": {
    "collapsed": false,
    "ExecuteTime": {
     "end_time": "2023-10-23T03:37:46.705147167Z",
     "start_time": "2023-10-23T03:37:46.676850298Z"
    }
   },
   "id": "ee64915a2e09cc36"
  },
  {
   "cell_type": "markdown",
   "id": "1d6717c6",
   "metadata": {},
   "source": [
    "## Example: Basic Feature Engineering"
   ]
  },
  {
   "cell_type": "markdown",
   "id": "5d306806",
   "metadata": {},
   "source": [
    "### Exploration: Neurons that form a synpase tend to have similar functional neural responses"
   ]
  },
  {
   "cell_type": "markdown",
   "id": "97bc6105",
   "metadata": {},
   "source": [
    "Neurons in the visual cortex each respond differently to visual stimuli.  This is often captured by a neuron's tuning function, or the visual features that drive a neuron to fire.  The feature weight vectors ('feature_weights') are a kind of summary of each neuron's tuning function.  Neuroscience suggests that neurons with similar tuning are slightly more likely to be connected.  To assess this, we would need to engineer a new feature that capture the tuning similarity of the pre- and post- synaptic neurons for each ADP.  (See the documentation for more details).  "
   ]
  },
  {
   "cell_type": "code",
   "execution_count": 76,
   "id": "e6679b5c",
   "metadata": {
    "ExecuteTime": {
     "end_time": "2023-10-23T03:37:46.705727962Z",
     "start_time": "2023-10-23T03:37:46.703548304Z"
    }
   },
   "outputs": [],
   "source": [
    "#cosine similarity function\n",
    "def row_feature_similarity(row):\n",
    "    pre = row[\"pre_feature_weights\"]\n",
    "    post = row[\"post_feature_weights\"]\n",
    "    return (pre * post).sum() / (np.linalg.norm(pre) * np.linalg.norm(post))"
   ]
  },
  {
   "cell_type": "code",
   "execution_count": 77,
   "id": "3388f91f",
   "metadata": {
    "ExecuteTime": {
     "end_time": "2023-10-23T03:37:49.350544043Z",
     "start_time": "2023-10-23T03:37:46.706161952Z"
    }
   },
   "outputs": [],
   "source": [
    "# compute the cosine similarity between the pre- and post- feature weights\n",
    "data[\"fw_similarity\"] = data.apply(row_feature_similarity, axis=1)"
   ]
  },
  {
   "cell_type": "code",
   "execution_count": 78,
   "id": "2bd80efe",
   "metadata": {
    "ExecuteTime": {
     "end_time": "2023-10-23T03:37:49.654135859Z",
     "start_time": "2023-10-23T03:37:49.349575422Z"
    }
   },
   "outputs": [
    {
     "data": {
      "text/plain": "<seaborn.axisgrid.FacetGrid at 0x7fae596fdf90>"
     },
     "execution_count": 78,
     "metadata": {},
     "output_type": "execute_result"
    },
    {
     "data": {
      "text/plain": "<Figure size 500x500 with 1 Axes>",
      "image/png": "[encoded data removed]"
     },
     "metadata": {},
     "output_type": "display_data"
    }
   ],
   "source": [
    "#visualize these results\n",
    "sns.catplot(data=data, x='connected', y='fw_similarity', kind='boxen')"
   ]
  },
  {
   "cell_type": "markdown",
   "id": "01035751",
   "metadata": {},
   "source": [
    "There may be a very, very slight difference, but we can investigate this further."
   ]
  },
  {
   "cell_type": "markdown",
   "id": "106744b9",
   "metadata": {},
   "source": [
    "### Exploration: Similar functional nerual responses by projection region in the brain"
   ]
  },
  {
   "cell_type": "markdown",
   "id": "7fe3de1b",
   "metadata": {},
   "source": [
    "Projection regions indicate the brain regions where the pre-synaptic and post-synaptic neurons are located in the brain.  Each brain region is responsible for different neural functions.  We can engineer a new feature to capture the projection regions and perhaps see if similar neural tuning is affiliated with connecitons in particular projection regions.  For example, it has been shown that connected neurons have slightly more similar neural tuning than unconnected neurons in the V1->V1 projection region."
   ]
  },
  {
   "cell_type": "code",
   "execution_count": 79,
   "id": "29908dfb",
   "metadata": {
    "ExecuteTime": {
     "end_time": "2023-10-23T03:37:49.685549998Z",
     "start_time": "2023-10-23T03:37:49.654717282Z"
    }
   },
   "outputs": [],
   "source": [
    "# generate projection group as pre->post\n",
    "data[\"projection_group\"] = (\n",
    "    data[\"pre_brain_area\"].astype(str)\n",
    "    + \"->\"\n",
    "    + data[\"post_brain_area\"].astype(str)\n",
    ")"
   ]
  },
  {
   "cell_type": "code",
   "execution_count": 80,
   "id": "e7b83b7b",
   "metadata": {
    "ExecuteTime": {
     "end_time": "2023-10-23T03:37:51.100580989Z",
     "start_time": "2023-10-23T03:37:49.684840416Z"
    }
   },
   "outputs": [
    {
     "data": {
      "text/plain": "<seaborn.axisgrid.FacetGrid at 0x7fae458afc70>"
     },
     "execution_count": 80,
     "metadata": {},
     "output_type": "execute_result"
    },
    {
     "data": {
      "text/plain": "<Figure size 883.875x800 with 4 Axes>",
      "image/png": "[encoded data removed]"
     },
     "metadata": {},
     "output_type": "display_data"
    }
   ],
   "source": [
    "# check the distribution of the cosine similarity for projections groups with more than 100 synapses\n",
    "projection_group_counts = data.query('connected')['projection_group'].value_counts()\n",
    "projection_group_counts = projection_group_counts[projection_group_counts > 100].index\n",
    "sns.displot(\n",
    "    data=data.query('projection_group in @projection_group_counts'), \n",
    "    x='fw_similarity', \n",
    "    hue='connected', \n",
    "    row='projection_group',\n",
    "    common_norm=False, \n",
    "    stat='probability',\n",
    "    binwidth=.02,\n",
    "    height=2,\n",
    "    aspect=4,\n",
    "    facet_kws={'sharey': False}\n",
    ")"
   ]
  },
  {
   "cell_type": "code",
   "execution_count": 81,
   "id": "1582585b",
   "metadata": {
    "ExecuteTime": {
     "end_time": "2023-10-23T03:37:52.495190277Z",
     "start_time": "2023-10-23T03:37:51.101477674Z"
    }
   },
   "outputs": [
    {
     "data": {
      "text/plain": "<Figure size 583.875x500 with 1 Axes>",
      "image/png": "[encoded data removed]"
     },
     "metadata": {},
     "output_type": "display_data"
    }
   ],
   "source": [
    "sns.catplot(data=data, x='projection_group', y='fw_similarity', hue='connected', kind='bar', alpha=.7)\n",
    "plt.tight_layout()\n",
    "plt.legend(bbox_to_anchor=(1.05, 1), loc=2, borderaxespad=0.)\n",
    "plt.xticks(rotation=90);"
   ]
  },
  {
   "cell_type": "markdown",
   "id": "2dc827ab",
   "metadata": {},
   "source": [
    "We have shown some simple examples of how to engineer new features and also shown that these are related to neuron connectivity.  You will likley need to explore and engineer many other possible features in this competition.  "
   ]
  },
  {
   "cell_type": "markdown",
   "id": "3a78d7f6",
   "metadata": {},
   "source": [
    "## Example: Simple Logistic Regression"
   ]
  },
  {
   "cell_type": "markdown",
   "id": "937655df",
   "metadata": {},
   "source": [
    "Now that we have shown some features are associated with neuron connectivity, we fit a simple calssification model: Logistic Regression."
   ]
  },
  {
   "cell_type": "code",
   "execution_count": 82,
   "id": "54850f42",
   "metadata": {
    "ExecuteTime": {
     "end_time": "2023-10-23T03:37:52.634885026Z",
     "start_time": "2023-10-23T03:37:52.500536094Z"
    }
   },
   "outputs": [
    {
     "name": "stdout",
     "output_type": "stream",
     "text": [
      "accuracy: 0.9927085855732236\n"
     ]
    }
   ],
   "source": [
    "# logistic regression model (connected ~ fw_similarity + adp)\n",
    "from sklearn.linear_model import LogisticRegression\n",
    "from sklearn.metrics import balanced_accuracy_score, accuracy_score, confusion_matrix\n",
    "from sklearn.model_selection import train_test_split\n",
    "from sklearn.preprocessing import StandardScaler\n",
    "from sklearn.pipeline import Pipeline\n",
    "\n",
    "# split into a train and test set \n",
    "#(Even though we're working with the competition training set, you may want to have your own internal train and test sets.)\n",
    "train_data, test_data = train_test_split(data, test_size=0.2, random_state=1)\n",
    "\n",
    "# create pipeline\n",
    "pipe = Pipeline(\n",
    "    [(\"scaler\", StandardScaler()), (\"model\", LogisticRegression(random_state=2))]\n",
    ")\n",
    "\n",
    "# fit model\n",
    "pipe.fit(train_data[[\"fw_similarity\", \"adp_dist\"]], train_data[\"connected\"])\n",
    "\n",
    "# predict on test data\n",
    "test_data[\"pred\"] = pipe.predict_proba(test_data[[\"fw_similarity\", \"adp_dist\"]])[:, 1]\n",
    "\n",
    "# compute accuracy\n",
    "print(f\"accuracy: {accuracy_score(test_data['connected'], test_data['pred'] > .5)}\")\n"
   ]
  },
  {
   "cell_type": "markdown",
   "id": "ec2397d5",
   "metadata": {},
   "source": [
    "Wow.  This looks like terrific accuracy.  But, remember the data is unbalanced.  Let's check the confusion matrix."
   ]
  },
  {
   "cell_type": "code",
   "execution_count": 83,
   "id": "2b351fdd",
   "metadata": {
    "ExecuteTime": {
     "end_time": "2023-10-23T03:37:52.646665337Z",
     "start_time": "2023-10-23T03:37:52.635854205Z"
    }
   },
   "outputs": [
    {
     "data": {
      "text/plain": "array([[36896,     0],\n       [  271,     0]])"
     },
     "execution_count": 83,
     "metadata": {},
     "output_type": "execute_result"
    }
   ],
   "source": [
    "confusion_matrix(test_data['connected'], test_data['pred'] > .5)"
   ]
  },
  {
   "cell_type": "markdown",
   "id": "e4faf555",
   "metadata": {},
   "source": [
    "The model always predicts not connected!  We need a new evaluation metric."
   ]
  },
  {
   "cell_type": "markdown",
   "id": "5157b7fb",
   "metadata": {},
   "source": [
    "### Balanced Accuracy Metric"
   ]
  },
  {
   "cell_type": "markdown",
   "id": "b83390f1",
   "metadata": {},
   "source": [
    "Sensitivity = True Positive Rate = True Positive / (True Positive + False Negative)\n",
    "Specificity = True Negative Rate = True Negative / (True Negative + False Positive)\n",
    "\n",
    "Balanced Accuracy = (Sensitivity + Specificity)/2"
   ]
  },
  {
   "cell_type": "code",
   "execution_count": 84,
   "id": "2481e7b8",
   "metadata": {
    "ExecuteTime": {
     "end_time": "2023-10-23T03:37:52.708904509Z",
     "start_time": "2023-10-23T03:37:52.645688056Z"
    }
   },
   "outputs": [
    {
     "name": "stdout",
     "output_type": "stream",
     "text": [
      "balanced accuracy: 0.5\n"
     ]
    }
   ],
   "source": [
    "print(\n",
    "    f\"balanced accuracy: {balanced_accuracy_score(test_data['connected'], test_data['pred'] > .5)}\"\n",
    ")"
   ]
  },
  {
   "cell_type": "markdown",
   "id": "5947b122",
   "metadata": {},
   "source": [
    "## Data Augmentation for Unbalanced Classification"
   ]
  },
  {
   "cell_type": "markdown",
   "id": "5b4b933c",
   "metadata": {},
   "source": [
    "As our simple model always predicts not connected, we need to use some technique that balances the two classes.  While there are many strategies one can employ, we demostrate a simple random over sampling strategy that uses the bootstrap to augment the data for the minority ('connected') class.  "
   ]
  },
  {
   "cell_type": "code",
   "execution_count": 85,
   "id": "b45c9e7e",
   "metadata": {
    "ExecuteTime": {
     "end_time": "2023-10-23T03:37:52.829618021Z",
     "start_time": "2023-10-23T03:37:52.660844816Z"
    }
   },
   "outputs": [
    {
     "name": "stdout",
     "output_type": "stream",
     "text": [
      "accuracy: 0.647752038098313\n",
      "[[23859 13037]\n",
      " [   55   216]]\n",
      "balanced accuracy: 0.7218517172433216\n"
     ]
    }
   ],
   "source": [
    "from imblearn.over_sampling import RandomOverSampler\n",
    "\n",
    "# oversample connected neuron pairs\n",
    "ros = RandomOverSampler(random_state=0)\n",
    "X_resampled, y_resampled = ros.fit_resample(\n",
    "    train_data[[\"fw_similarity\", \"adp_dist\"]], train_data[\"connected\"]\n",
    ")\n",
    "\n",
    "# fit model\n",
    "pipe.fit(X_resampled, y_resampled)\n",
    "\n",
    "# predict on test data\n",
    "test_data[\"pred\"] = pipe.predict_proba(test_data[[\"fw_similarity\", \"adp_dist\"]])[:, 1]\n",
    "\n",
    "# compute accuracy\n",
    "print(f\"accuracy: {accuracy_score(test_data['connected'], test_data['pred'] > .5)}\")\n",
    "\n",
    "# confusion matrix\n",
    "print(confusion_matrix(test_data['connected'], test_data['pred'] > .5))\n",
    "\n",
    "# compute balanced accuracy\n",
    "print(\n",
    "    f\"balanced accuracy: {balanced_accuracy_score(test_data['connected'], test_data['pred'] > .5)}\"\n",
    ")"
   ]
  },
  {
   "cell_type": "markdown",
   "id": "48d1a156",
   "metadata": {},
   "source": [
    "Simple data augmentation improves our balanced accuracy dramatically!"
   ]
  },
  {
   "cell_type": "markdown",
   "id": "bb82ab85",
   "metadata": {},
   "source": [
    "# Create Example Prediction File for Leaderboard Submission"
   ]
  },
  {
   "cell_type": "markdown",
   "id": "0d12af71",
   "metadata": {},
   "source": [
    "### Load and Merge Leaderboard Data"
   ]
  },
  {
   "cell_type": "code",
   "execution_count": 86,
   "id": "a8bdc8d8",
   "metadata": {
    "ExecuteTime": {
     "end_time": "2023-10-23T03:37:52.954028411Z",
     "start_time": "2023-10-23T03:37:52.829178513Z"
    }
   },
   "outputs": [],
   "source": [
    "#we need to first load and merge the leaderboard data to have the same format as the training set\n",
    "lb_data = pd.read_csv(\"./leaderboard_data.csv\")"
   ]
  },
  {
   "cell_type": "code",
   "execution_count": 87,
   "id": "4d0b97fd",
   "metadata": {
    "ExecuteTime": {
     "end_time": "2023-10-23T03:37:52.985434239Z",
     "start_time": "2023-10-23T03:37:52.956480169Z"
    }
   },
   "outputs": [],
   "source": [
    "lb_data = (\n",
    "    lb_data.merge(\n",
    "        feature_weights.rename(columns=lambda x: \"pre_\" + x), \n",
    "        how=\"left\", \n",
    "        validate=\"m:1\",\n",
    "        copy=False,\n",
    "    )\n",
    "    .merge(\n",
    "        feature_weights.rename(columns=lambda x: \"post_\" + x),\n",
    "        how=\"left\",\n",
    "        validate=\"m:1\",\n",
    "        copy=False,\n",
    "    )\n",
    "    .merge(\n",
    "        morph_embeddings.rename(columns=lambda x: \"pre_\" + x),\n",
    "        how=\"left\",\n",
    "        validate=\"m:1\",\n",
    "        copy=False,\n",
    "    )\n",
    "    .merge(\n",
    "        morph_embeddings.rename(columns=lambda x: \"post_\" + x),\n",
    "        how=\"left\",\n",
    "        validate=\"m:1\",\n",
    "        copy=False,\n",
    "    )\n",
    ")"
   ]
  },
  {
   "cell_type": "code",
   "execution_count": 88,
   "id": "4074a460",
   "metadata": {
    "ExecuteTime": {
     "end_time": "2023-10-23T03:37:53.024498659Z",
     "start_time": "2023-10-23T03:37:52.981490404Z"
    }
   },
   "outputs": [
    {
     "data": {
      "text/plain": "<bound method NDFrame.head of           ID  axonal_coor_x  axonal_coor_y  axonal_coor_z  dendritic_coor_x  \\\n0          0         527499         544761         912282            529457   \n1          1        1269890         471870         837816           1271230   \n2          2         666057         469875         925239            665387   \n3          3         696633         453516         925806            696648   \n4          4         567525         585921         888426            570714   \n...      ...            ...            ...            ...               ...   \n42588  42588         765513         818622         870114            766346   \n42589  42589         784476         609000         828177            782564   \n42590  42590         766038         773808         861693            763428   \n42591  42591         738276         614460         855099            741617   \n42592  42592         769314         457443         874419            771959   \n\n       dendritic_coor_y  dendritic_coor_z  adp_dist  \\\n0                543459            916958   4783.37   \n1                469651            841045   4060.72   \n2                467214            923430   2912.80   \n3                453417            921875   3272.83   \n4                583676            891264   4441.75   \n...                 ...               ...       ...   \n42588            817181            871011   1597.63   \n42589            606911            828562   2607.11   \n42590            773490            862976   2648.36   \n42591            612387            854028   3843.24   \n42592            456564            869856   4978.29   \n\n       post_skeletal_distance_to_soma  pre_skeletal_distance_to_soma  ...  \\\n0                           239163.00                       178032.0  ...   \n1                           294573.00                      1193910.0  ...   \n2                             4102.75                       387714.0  ...   \n3                            31123.00                       424714.0  ...   \n4                           114201.00                       250411.0  ...   \n...                               ...                            ...  ...   \n42588                        74187.70                       426027.0  ...   \n42589                       172794.00                       553175.0  ...   \n42590                        44174.50                       372663.0  ...   \n42591                       178179.00                       517147.0  ...   \n42592                       321244.00                       763630.0  ...   \n\n       pre_nucleus_z  post_nucleus_x  post_nucleus_y  post_nucleus_z  \\\n0             861240          566528          777344          920800   \n1             861240         1196352          492736          919560   \n2             861240          669760          470336          913720   \n3             861240          669760          470336          913720   \n4             861240          672384          609728          932720   \n...              ...             ...             ...             ...   \n42588         837120          807168          757376          869080   \n42589         837120          807168          757376          869080   \n42590         837120          807168          757376          869080   \n42591         837120          807168          757376          869080   \n42592         837120          807168          757376          869080   \n\n       pre_nucleus_id  post_nucleus_id  \\\n0              582471           199477   \n1              582471           518848   \n2              582471           256716   \n3              582471           256716   \n4              582471           260802   \n...               ...              ...   \n42588          294484           335443   \n42589          294484           335443   \n42590          294484           335443   \n42591          294484           335443   \n42592          294484           335443   \n\n                                     pre_feature_weights  \\\n0      [0.19683373, 0.19128098, 0.49339047, -0.029781...   \n1      [0.19683373, 0.19128098, 0.49339047, -0.029781...   \n2      [0.19683373, 0.19128098, 0.49339047, -0.029781...   \n3      [0.19683373, 0.19128098, 0.49339047, -0.029781...   \n4      [0.19683373, 0.19128098, 0.49339047, -0.029781...   \n...                                                  ...   \n42588  [0.4097931, 0.2948376, 0.05925691, 0.111899965...   \n42589  [0.4097931, 0.2948376, 0.05925691, 0.111899965...   \n42590  [0.4097931, 0.2948376, 0.05925691, 0.111899965...   \n42591  [0.4097931, 0.2948376, 0.05925691, 0.111899965...   \n42592  [0.4097931, 0.2948376, 0.05925691, 0.111899965...   \n\n                                    post_feature_weights  \\\n0      [-0.03441501, 0.41964892, 0.23311342, 0.327173...   \n1      [-0.03917461, -0.1830603, -0.3704222, 0.183293...   \n2      [-0.66653997, 0.5036552, 0.047438737, 0.181578...   \n3      [-0.66653997, 0.5036552, 0.047438737, 0.181578...   \n4      [-0.40308818, 0.20905656, 0.25083357, -0.19731...   \n...                                                  ...   \n42588  [-0.2947989, -0.35604966, 0.7178404, 0.1323682...   \n42589  [-0.2947989, -0.35604966, 0.7178404, 0.1323682...   \n42590  [-0.2947989, -0.35604966, 0.7178404, 0.1323682...   \n42591  [-0.2947989, -0.35604966, 0.7178404, 0.1323682...   \n42592  [-0.2947989, -0.35604966, 0.7178404, 0.1323682...   \n\n                                    pre_morph_embeddings  \\\n0      [0.5603107213973999, -0.3908874094486236, -0.1...   \n1      [0.5603107213973999, -0.3908874094486236, -0.1...   \n2      [0.5603107213973999, -0.3908874094486236, -0.1...   \n3      [0.5603107213973999, -0.3908874094486236, -0.1...   \n4      [0.5603107213973999, -0.3908874094486236, -0.1...   \n...                                                  ...   \n42588                                                NaN   \n42589                                                NaN   \n42590                                                NaN   \n42591                                                NaN   \n42592                                                NaN   \n\n                                   post_morph_embeddings  \n0      [1.132591724395752, -0.0064769592136144, -0.67...  \n1      [1.0723994970321655, -0.7540942430496216, 0.11...  \n2      [-0.0201839506626129, -0.2563340067863464, 0.1...  \n3      [-0.0201839506626129, -0.2563340067863464, 0.1...  \n4      [-0.0254557952284812, 0.7573301792144775, -0.2...  \n...                                                  ...  \n42588  [1.4674314260482788, 0.6272068619728088, 0.410...  \n42589  [1.4674314260482788, 0.6272068619728088, 0.410...  \n42590  [1.4674314260482788, 0.6272068619728088, 0.410...  \n42591  [1.4674314260482788, 0.6272068619728088, 0.410...  \n42592  [1.4674314260482788, 0.6272068619728088, 0.410...  \n\n[42593 rows x 33 columns]>"
     },
     "execution_count": 88,
     "metadata": {},
     "output_type": "execute_result"
    }
   ],
   "source": [
    "lb_data.shape\n",
    "lb_data.head"
   ]
  },
  {
   "cell_type": "markdown",
   "id": "6b6d054a",
   "metadata": {},
   "source": [
    "### Example Prediction: Simple Logistic Regression"
   ]
  },
  {
   "cell_type": "markdown",
   "id": "cc2467bc",
   "metadata": {},
   "source": [
    "Now we fit a our logistic regression model on the full training data and use it to make predictions on the leaderboard data. But first, we need to add in our new engineered feature on neural tuning similarity.  "
   ]
  },
  {
   "cell_type": "code",
   "execution_count": 89,
   "id": "089e47f4",
   "metadata": {
    "ExecuteTime": {
     "end_time": "2023-10-23T03:37:53.531457946Z",
     "start_time": "2023-10-23T03:37:53.023366891Z"
    }
   },
   "outputs": [],
   "source": [
    "# compute the cosine similarity between the pre- and post- feature weights\n",
    "lb_data[\"fw_similarity\"] = lb_data.apply(row_feature_similarity, axis=1)"
   ]
  },
  {
   "cell_type": "code",
   "execution_count": 90,
   "id": "7a8e702c",
   "metadata": {
    "ExecuteTime": {
     "end_time": "2023-10-23T03:37:53.682757914Z",
     "start_time": "2023-10-23T03:37:53.534497762Z"
    }
   },
   "outputs": [],
   "source": [
    "# oversample connected neuron pairs for full training data\n",
    "ros = RandomOverSampler(random_state=0)\n",
    "X_resampled, y_resampled = ros.fit_resample(\n",
    "    data[[\"fw_similarity\", \"adp_dist\"]], data[\"connected\"]\n",
    ")\n",
    "\n",
    "# fit model\n",
    "pipe.fit(X_resampled, y_resampled)\n",
    "\n",
    "# predict on leaderboard data\n",
    "lb_data[\"pred\"] = pipe.predict_proba(lb_data[[\"fw_similarity\", \"adp_dist\"]])[:, 1]\n",
    "\n",
    "#create a boolean prediction solution\n",
    "lb_data[\"connected\"] = lb_data[\"pred\"] > .5"
   ]
  },
  {
   "cell_type": "markdown",
   "id": "69c96a3f",
   "metadata": {},
   "source": [
    "### Example of Creating a Leaderboard Submission File"
   ]
  },
  {
   "cell_type": "code",
   "execution_count": 91,
   "id": "771bb7d2",
   "metadata": {
    "ExecuteTime": {
     "end_time": "2023-10-23T03:37:53.689168174Z",
     "start_time": "2023-10-23T03:37:53.682250103Z"
    }
   },
   "outputs": [],
   "source": [
    "#columns should be ID, connected\n",
    "submission_data = lb_data.filter(['ID','connected'])"
   ]
  },
  {
   "cell_type": "code",
   "execution_count": 92,
   "id": "9ad284b2",
   "metadata": {
    "ExecuteTime": {
     "end_time": "2023-10-23T03:37:53.751059539Z",
     "start_time": "2023-10-23T03:37:53.685629904Z"
    }
   },
   "outputs": [],
   "source": [
    "#writing csv files\n",
    "submission_data.to_csv('example_submission_data.csv',index=False)"
   ]
  },
  {
   "cell_type": "code",
   "execution_count": 92,
   "outputs": [],
   "source": [],
   "metadata": {
    "collapsed": false,
    "ExecuteTime": {
     "end_time": "2023-10-23T03:37:53.753524707Z",
     "start_time": "2023-10-23T03:37:53.749872527Z"
    }
   },
   "id": "da10ea3d60ae682e"
  }
 ],
 "metadata": {
  "kernelspec": {
   "display_name": "Python 3 (ipykernel)",
   "language": "python",
   "name": "python3"
  },
  "language_info": {
   "codemirror_mode": {
    "name": "ipython",
    "version": 3
   },
   "file_extension": ".py",
   "mimetype": "text/x-python",
   "name": "python",
   "nbconvert_exporter": "python",
   "pygments_lexer": "ipython3",
   "version": "3.10.9"
  }
 },
 "nbformat": 4,
 "nbformat_minor": 5
}
